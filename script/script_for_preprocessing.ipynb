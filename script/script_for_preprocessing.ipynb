{
  "cells": [
    {
      "cell_type": "markdown",
      "metadata": {
        "id": "view-in-github",
        "colab_type": "text"
      },
      "source": [
        "<a href=\"https://colab.research.google.com/github/ahmdxrzky/capstone-bangkit-2022/blob/main/script/script_for_preprocessing.ipynb\" target=\"_parent\"><img src=\"https://colab.research.google.com/assets/colab-badge.svg\" alt=\"Open In Colab\"/></a>"
      ]
    },
    {
      "cell_type": "markdown",
      "metadata": {
        "id": "ivAcEOXE7EyV"
      },
      "source": [
        "Access raw data from Google Drive."
      ]
    },
    {
      "cell_type": "code",
      "execution_count": null,
      "metadata": {
        "colab": {
          "base_uri": "https://localhost:8080/"
        },
        "id": "rkiSNF7KZity",
        "outputId": "073be45c-26f6-403f-bba9-6c35c6b94d15"
      },
      "outputs": [
        {
          "output_type": "stream",
          "name": "stdout",
          "text": [
            "Mounted at /content/drive/\n"
          ]
        }
      ],
      "source": [
        "from google.colab import drive\n",
        "drive.mount('/content/drive/')"
      ]
    },
    {
      "cell_type": "markdown",
      "metadata": {
        "id": "hEZjI9ND7c1w"
      },
      "source": [
        "Define source and destination folders for each categories as variables."
      ]
    },
    {
      "cell_type": "code",
      "execution_count": null,
      "metadata": {
        "id": "iz4evHmZWYc9"
      },
      "outputs": [],
      "source": [
        "raw_training_jahe = \"/content/drive/Shareddrives/CAPSTONE BANGKIT/RAW DATASET/TRAINING_DIR/JAHE\"\n",
        "raw_training_kemiri = \"/content/drive/Shareddrives/CAPSTONE BANGKIT/RAW DATASET/TRAINING_DIR/KEMIRI\"\n",
        "raw_training_kencur = \"/content/drive/Shareddrives/CAPSTONE BANGKIT/RAW DATASET/TRAINING_DIR/KENCUR\"\n",
        "raw_training_kunyit = \"/content/drive/Shareddrives/CAPSTONE BANGKIT/RAW DATASET/TRAINING_DIR/KUNYIT\"\n",
        "raw_training_lengkuas = \"/content/drive/Shareddrives/CAPSTONE BANGKIT/RAW DATASET/TRAINING_DIR/LENGKUAS\"\n",
        "raw_training_pala = \"/content/drive/Shareddrives/CAPSTONE BANGKIT/RAW DATASET/TRAINING_DIR/PALA\"\n",
        "raw_testing_jahe = \"/content/drive/Shareddrives/CAPSTONE BANGKIT/RAW DATASET/TESTING_DIR/JAHE\"\n",
        "raw_testing_kemiri = \"/content/drive/Shareddrives/CAPSTONE BANGKIT/RAW DATASET/TESTING_DIR/KEMIRI\"\n",
        "raw_testing_kencur = \"/content/drive/Shareddrives/CAPSTONE BANGKIT/RAW DATASET/TESTING_DIR/KENCUR\"\n",
        "raw_testing_kunyit = \"/content/drive/Shareddrives/CAPSTONE BANGKIT/RAW DATASET/TESTING_DIR/KUNYIT\"\n",
        "raw_testing_lengkuas = \"/content/drive/Shareddrives/CAPSTONE BANGKIT/RAW DATASET/TESTING_DIR/LENGKUAS\"\n",
        "raw_testing_pala = \"/content/drive/Shareddrives/CAPSTONE BANGKIT/RAW DATASET/TESTING_DIR/PALA\"\n",
        "\n",
        "fix_training_jahe = \"/content/drive/Shareddrives/CAPSTONE BANGKIT/FIX DATASET/TRAINING_DIR/JAHE\"\n",
        "fix_training_kemiri = \"/content/drive/Shareddrives/CAPSTONE BANGKIT/FIX DATASET/TRAINING_DIR/KEMIRI\"\n",
        "fix_training_kencur = \"/content/drive/Shareddrives/CAPSTONE BANGKIT/FIX DATASET/TRAINING_DIR/KENCUR\"\n",
        "fix_training_kunyit = \"/content/drive/Shareddrives/CAPSTONE BANGKIT/FIX DATASET/TRAINING_DIR/KUNYIT\"\n",
        "fix_training_lengkuas = \"/content/drive/Shareddrives/CAPSTONE BANGKIT/FIX DATASET/TRAINING_DIR/LENGKUAS\"\n",
        "fix_training_pala = \"/content/drive/Shareddrives/CAPSTONE BANGKIT/FIX DATASET/TRAINING_DIR/PALA\"\n",
        "fix_testing_jahe = \"/content/drive/Shareddrives/CAPSTONE BANGKIT/FIX DATASET/TESTING_DIR/JAHE\"\n",
        "fix_testing_kemiri = \"/content/drive/Shareddrives/CAPSTONE BANGKIT/FIX DATASET/TESTING_DIR/KEMIRI\"\n",
        "fix_testing_kencur = \"/content/drive/Shareddrives/CAPSTONE BANGKIT/FIX DATASET/TESTING_DIR/KENCUR\"\n",
        "fix_testing_kunyit = \"/content/drive/Shareddrives/CAPSTONE BANGKIT/FIX DATASET/TESTING_DIR/KUNYIT\"\n",
        "fix_testing_lengkuas = \"/content/drive/Shareddrives/CAPSTONE BANGKIT/FIX DATASET/TESTING_DIR/LENGKUAS\"\n",
        "fix_testing_pala = \"/content/drive/Shareddrives/CAPSTONE BANGKIT/FIX DATASET/TESTING_DIR/PALA\""
      ]
    },
    {
      "cell_type": "markdown",
      "metadata": {
        "id": "GyUBkP357w--"
      },
      "source": [
        "Define a function for resizing and reformatting raw data so it can be used for modelling as good as possible."
      ]
    },
    {
      "cell_type": "code",
      "execution_count": null,
      "metadata": {
        "id": "9ABUjucJbEBY"
      },
      "outputs": [],
      "source": [
        "import PIL\n",
        "from PIL import Image\n",
        "import re\n",
        "import shutil\n",
        "import os\n",
        "\n",
        "def img_resize(raw, fix, size1, size2):\n",
        "  # For multiple run, if the destination folder has existed, force delete it\n",
        "  if os.path.exists(fix):\n",
        "    shutil.rmtree(fix)\n",
        "  \n",
        "  # Build (or rebuild) the destination folder\n",
        "  os.makedirs(fix)\n",
        "  \n",
        "  # Open picture, resize to size, and save it to folder defined before\n",
        "  for index, name in enumerate(os.listdir(raw)):\n",
        "    path = os.path.join(raw, name)\n",
        "    main_name = re.sub(r\"(.[A-Za-z]+)$\", \"\", name)\n",
        "    new_name = \"{}_{}.jpg\".format(main_name, index)\n",
        "    try:\n",
        "      picture = Image.open(path)\n",
        "      pic = picture.convert('RGB')\n",
        "      pic.resize((size1, size2)).save(os.path.join(fix, new_name))\n",
        "    except PIL.UnidentifiedImageError:\n",
        "      pass\n",
        "\n",
        "  print(\"{}/{} picture from {} have been resized and moved to {}\".format(len(os.listdir(fix)), len(os.listdir(raw)), raw, fix))"
      ]
    },
    {
      "cell_type": "markdown",
      "metadata": {
        "id": "bmcJTMoB9dj8"
      },
      "source": [
        "Do image resize from all raw folder to all fix folder."
      ]
    },
    {
      "cell_type": "code",
      "execution_count": null,
      "metadata": {
        "colab": {
          "base_uri": "https://localhost:8080/"
        },
        "id": "n1VkdjQnnQGg",
        "outputId": "4d0c6429-3b11-4739-c79f-24b2af71207c"
      },
      "outputs": [
        {
          "output_type": "stream",
          "name": "stdout",
          "text": [
            "250/250 picture from /content/drive/Shareddrives/CAPSTONE BANGKIT/RAW DATASET/TRAINING_DIR/JAHE have been resized and moved to /content/drive/Shareddrives/CAPSTONE BANGKIT/FIX DATASET/TRAINING_DIR/JAHE\n",
            "250/250 picture from /content/drive/Shareddrives/CAPSTONE BANGKIT/RAW DATASET/TRAINING_DIR/KEMIRI have been resized and moved to /content/drive/Shareddrives/CAPSTONE BANGKIT/FIX DATASET/TRAINING_DIR/KEMIRI\n",
            "250/250 picture from /content/drive/Shareddrives/CAPSTONE BANGKIT/RAW DATASET/TRAINING_DIR/KENCUR have been resized and moved to /content/drive/Shareddrives/CAPSTONE BANGKIT/FIX DATASET/TRAINING_DIR/KENCUR\n"
          ]
        },
        {
          "output_type": "stream",
          "name": "stderr",
          "text": [
            "/usr/local/lib/python3.7/dist-packages/PIL/Image.py:960: UserWarning: Palette images with Transparency expressed in bytes should be converted to RGBA images\n",
            "  \"Palette images with Transparency expressed in bytes should be \"\n"
          ]
        },
        {
          "output_type": "stream",
          "name": "stdout",
          "text": [
            "250/250 picture from /content/drive/Shareddrives/CAPSTONE BANGKIT/RAW DATASET/TRAINING_DIR/KUNYIT have been resized and moved to /content/drive/Shareddrives/CAPSTONE BANGKIT/FIX DATASET/TRAINING_DIR/KUNYIT\n",
            "256/256 picture from /content/drive/Shareddrives/CAPSTONE BANGKIT/RAW DATASET/TRAINING_DIR/LENGKUAS have been resized and moved to /content/drive/Shareddrives/CAPSTONE BANGKIT/FIX DATASET/TRAINING_DIR/LENGKUAS\n",
            "250/250 picture from /content/drive/Shareddrives/CAPSTONE BANGKIT/RAW DATASET/TRAINING_DIR/PALA have been resized and moved to /content/drive/Shareddrives/CAPSTONE BANGKIT/FIX DATASET/TRAINING_DIR/PALA\n",
            "50/50 picture from /content/drive/Shareddrives/CAPSTONE BANGKIT/RAW DATASET/TESTING_DIR/JAHE have been resized and moved to /content/drive/Shareddrives/CAPSTONE BANGKIT/FIX DATASET/TESTING_DIR/JAHE\n",
            "50/50 picture from /content/drive/Shareddrives/CAPSTONE BANGKIT/RAW DATASET/TESTING_DIR/KEMIRI have been resized and moved to /content/drive/Shareddrives/CAPSTONE BANGKIT/FIX DATASET/TESTING_DIR/KEMIRI\n",
            "50/50 picture from /content/drive/Shareddrives/CAPSTONE BANGKIT/RAW DATASET/TESTING_DIR/KENCUR have been resized and moved to /content/drive/Shareddrives/CAPSTONE BANGKIT/FIX DATASET/TESTING_DIR/KENCUR\n",
            "50/50 picture from /content/drive/Shareddrives/CAPSTONE BANGKIT/RAW DATASET/TESTING_DIR/KUNYIT have been resized and moved to /content/drive/Shareddrives/CAPSTONE BANGKIT/FIX DATASET/TESTING_DIR/KUNYIT\n",
            "50/50 picture from /content/drive/Shareddrives/CAPSTONE BANGKIT/RAW DATASET/TESTING_DIR/LENGKUAS have been resized and moved to /content/drive/Shareddrives/CAPSTONE BANGKIT/FIX DATASET/TESTING_DIR/LENGKUAS\n",
            "50/50 picture from /content/drive/Shareddrives/CAPSTONE BANGKIT/RAW DATASET/TESTING_DIR/PALA have been resized and moved to /content/drive/Shareddrives/CAPSTONE BANGKIT/FIX DATASET/TESTING_DIR/PALA\n"
          ]
        }
      ],
      "source": [
        "raw_folder = [raw_training_jahe, raw_training_kemiri, raw_training_kencur, raw_training_kunyit, raw_training_lengkuas, raw_training_pala,\n",
        "              raw_testing_jahe, raw_testing_kemiri, raw_testing_kencur, raw_testing_kunyit, raw_testing_lengkuas, raw_testing_pala]\n",
        "fix_folder = [fix_training_jahe, fix_training_kemiri, fix_training_kencur, fix_training_kunyit, fix_training_lengkuas, fix_training_pala,\n",
        "              fix_testing_jahe, fix_testing_kemiri, fix_testing_kencur, fix_testing_kunyit, fix_testing_lengkuas, fix_testing_pala]\n",
        "\n",
        "def all_resize(raw, fix):\n",
        "  for i in range(len(raw)):\n",
        "    img_resize(raw[i], fix[i], 224, 224)\n",
        "\n",
        "all_resize(raw_folder, fix_folder)"
      ]
    },
    {
      "cell_type": "markdown",
      "metadata": {
        "id": "TwnGsOa89hbu"
      },
      "source": [
        "Extract the converted file as zip file and automatically download it. Don't forget to upload it to github, so it can be accessed for model training's script."
      ]
    },
    {
      "cell_type": "code",
      "execution_count": null,
      "metadata": {
        "colab": {
          "base_uri": "https://localhost:8080/",
          "height": 34
        },
        "id": "4rV0_fJJ-pl6",
        "outputId": "33c6c4f9-24e9-4c57-ed71-737ba2570206"
      },
      "outputs": [
        {
          "output_type": "display_data",
          "data": {
            "text/plain": [
              "<IPython.core.display.Javascript object>"
            ],
            "application/javascript": [
              "\n",
              "    async function download(id, filename, size) {\n",
              "      if (!google.colab.kernel.accessAllowed) {\n",
              "        return;\n",
              "      }\n",
              "      const div = document.createElement('div');\n",
              "      const label = document.createElement('label');\n",
              "      label.textContent = `Downloading \"${filename}\": `;\n",
              "      div.appendChild(label);\n",
              "      const progress = document.createElement('progress');\n",
              "      progress.max = size;\n",
              "      div.appendChild(progress);\n",
              "      document.body.appendChild(div);\n",
              "\n",
              "      const buffers = [];\n",
              "      let downloaded = 0;\n",
              "\n",
              "      const channel = await google.colab.kernel.comms.open(id);\n",
              "      // Send a message to notify the kernel that we're ready.\n",
              "      channel.send({})\n",
              "\n",
              "      for await (const message of channel.messages) {\n",
              "        // Send a message to notify the kernel that we're ready.\n",
              "        channel.send({})\n",
              "        if (message.buffers) {\n",
              "          for (const buffer of message.buffers) {\n",
              "            buffers.push(buffer);\n",
              "            downloaded += buffer.byteLength;\n",
              "            progress.value = downloaded;\n",
              "          }\n",
              "        }\n",
              "      }\n",
              "      const blob = new Blob(buffers, {type: 'application/binary'});\n",
              "      const a = document.createElement('a');\n",
              "      a.href = window.URL.createObjectURL(blob);\n",
              "      a.download = filename;\n",
              "      div.appendChild(a);\n",
              "      a.click();\n",
              "      div.remove();\n",
              "    }\n",
              "  "
            ]
          },
          "metadata": {}
        },
        {
          "output_type": "display_data",
          "data": {
            "text/plain": [
              "<IPython.core.display.Javascript object>"
            ],
            "application/javascript": [
              "download(\"download_f93163cd-dffb-4b64-a090-c8ad9d3821bf\", \"spices.zip\", 12099245)"
            ]
          },
          "metadata": {}
        }
      ],
      "source": [
        "shutil.make_archive(\"/content/spices\", 'zip', \"/content/drive/Shareddrives/CAPSTONE BANGKIT/FIX DATASET\")\n",
        "\n",
        "from google.colab import files\n",
        "files.download('/content/spices.zip')"
      ]
    }
  ],
  "metadata": {
    "colab": {
      "collapsed_sections": [],
      "name": "script_for_preprocessing.ipynb",
      "provenance": [],
      "include_colab_link": true
    },
    "kernelspec": {
      "display_name": "Python 3",
      "name": "python3"
    },
    "language_info": {
      "name": "python"
    }
  },
  "nbformat": 4,
  "nbformat_minor": 0
}