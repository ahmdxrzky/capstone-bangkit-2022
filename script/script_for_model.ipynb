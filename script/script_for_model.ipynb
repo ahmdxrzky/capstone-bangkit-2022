{
  "nbformat": 4,
  "nbformat_minor": 0,
  "metadata": {
    "colab": {
      "name": "script_for_model.ipynb",
      "provenance": [],
      "collapsed_sections": [],
      "include_colab_link": true
    },
    "kernelspec": {
      "name": "python3",
      "display_name": "Python 3"
    },
    "language_info": {
      "name": "python"
    },
    "accelerator": "GPU"
  },
  "cells": [
    {
      "cell_type": "markdown",
      "metadata": {
        "id": "view-in-github",
        "colab_type": "text"
      },
      "source": [
        "<a href=\"https://colab.research.google.com/github/ahmdxrzky/capstone-bangkit-2022/blob/main/script/script_for_model.ipynb\" target=\"_parent\"><img src=\"https://colab.research.google.com/assets/colab-badge.svg\" alt=\"Open In Colab\"/></a>"
      ]
    },
    {
      "cell_type": "markdown",
      "source": [
        "# PREPARATION"
      ],
      "metadata": {
        "id": "RKfXdTzMIYOo"
      }
    },
    {
      "cell_type": "markdown",
      "source": [
        "Import important libraries."
      ],
      "metadata": {
        "id": "7q8H-JUL46Id"
      }
    },
    {
      "cell_type": "code",
      "source": [
        "import pandas as pd\n",
        "import numpy as np\n",
        "import matplotlib.pylab as plt\n",
        "import os\n",
        "import shutil\n",
        "import tensorflow as tf\n",
        "import pathlib\n",
        "import tensorflow_hub as hub"
      ],
      "metadata": {
        "id": "EKNR42bPHwOI"
      },
      "execution_count": null,
      "outputs": []
    },
    {
      "cell_type": "markdown",
      "source": [
        "Import train and test dataset from github.\n"
      ],
      "metadata": {
        "id": "bEQPvyGMI2lh"
      }
    },
    {
      "cell_type": "code",
      "source": [
        "import zipfile\n",
        "\n",
        "#Access github that contains dataset through this link\n",
        "!wget --no-check-certificate \\\n",
        "    \"https://codeload.github.com/ahmdxrzky/capstone-bangkit-2022/zip/refs/heads/main\" \\\n",
        "    -O \"/content/github.zip\"\n",
        "\n",
        "#Extract all files from github\n",
        "zip_ref = zipfile.ZipFile('/content/github.zip', 'r')\n",
        "zip_ref.extractall('/content/github')\n",
        "zip_ref.close()\n",
        "\n",
        "#Extract folder that contains dataset of images\n",
        "zip_ref = zipfile.ZipFile('/content/github/capstone-bangkit-2022-main/dataset/spices.zip', 'r')\n",
        "zip_ref.extractall('/content/spices')\n",
        "zip_ref.close()\n",
        "\n",
        "#Delete unnecessary files\n",
        "os.remove('/content/github.zip')\n",
        "shutil.rmtree('/content/github')"
      ],
      "metadata": {
        "colab": {
          "base_uri": "https://localhost:8080/"
        },
        "id": "PSLC9BWJH3YT",
        "outputId": "1614a550-7d85-49ff-cc38-dbc66bc70ec1"
      },
      "execution_count": null,
      "outputs": [
        {
          "output_type": "stream",
          "name": "stdout",
          "text": [
            "--2022-06-06 03:32:01--  https://codeload.github.com/ahmdxrzky/capstone-bangkit-2022/zip/refs/heads/main\n",
            "Resolving codeload.github.com (codeload.github.com)... 20.205.243.165\n",
            "Connecting to codeload.github.com (codeload.github.com)|20.205.243.165|:443... connected.\n",
            "HTTP request sent, awaiting response... 200 OK\n",
            "Length: unspecified [application/zip]\n",
            "Saving to: ‘/content/github.zip’\n",
            "\n",
            "/content/github.zip     [           <=>      ]  11.50M  4.91MB/s    in 2.3s    \n",
            "\n",
            "2022-06-06 03:32:04 (4.91 MB/s) - ‘/content/github.zip’ saved [12058851]\n",
            "\n"
          ]
        }
      ]
    },
    {
      "cell_type": "markdown",
      "source": [
        "Load images from extracted dataset's folder and use its names as labels, both for train and test."
      ],
      "metadata": {
        "id": "WT0RLmcFJHad"
      }
    },
    {
      "cell_type": "code",
      "source": [
        "#Access images and used its folder names as label using flow_from_directory\n",
        "from tensorflow.keras.preprocessing.image import ImageDataGenerator\n",
        "\n",
        "try:\n",
        "  os.rmdir(\"/content/spices/TRAINING_DIR/.ipynb_checkpoints\")\n",
        "  os.rmdir(\"/content/spices/TEST_DIR/.ipynb_checkpoints\")\n",
        "except FileNotFoundError:\n",
        "  pass\n",
        "\n",
        "train_datagen = ImageDataGenerator(rescale=1./255)\n",
        "train_generator = train_datagen.flow_from_directory(directory=\"/content/spices/TRAINING_DIR\",\n",
        "                                                    target_size=(224,224),\n",
        "                                                    batch_size=10,\n",
        "                                                    class_mode='categorical')\n",
        "\n",
        "test_datagen = ImageDataGenerator(rescale=1./255)\n",
        "test_generator = train_datagen.flow_from_directory(directory=\"/content/spices/TESTING_DIR\",\n",
        "                                                   target_size=(224,224),\n",
        "                                                   batch_size=10,\n",
        "                                                   class_mode='categorical')"
      ],
      "metadata": {
        "colab": {
          "base_uri": "https://localhost:8080/"
        },
        "id": "cVZa_pSFJK7C",
        "outputId": "6b9f0406-831b-473d-bdaf-7ac0fd81c4ce"
      },
      "execution_count": null,
      "outputs": [
        {
          "output_type": "stream",
          "name": "stdout",
          "text": [
            "Found 1506 images belonging to 6 classes.\n",
            "Found 300 images belonging to 6 classes.\n"
          ]
        }
      ]
    },
    {
      "cell_type": "code",
      "source": [
        "train_generator.class_indices"
      ],
      "metadata": {
        "colab": {
          "base_uri": "https://localhost:8080/"
        },
        "id": "GdRUnwdeEMP3",
        "outputId": "5c31c7ef-89d2-43d8-f6b6-8a12cc8cda3e"
      },
      "execution_count": null,
      "outputs": [
        {
          "output_type": "execute_result",
          "data": {
            "text/plain": [
              "{'JAHE': 0, 'KEMIRI': 1, 'KENCUR': 2, 'KUNYIT': 3, 'LENGKUAS': 4, 'PALA': 5}"
            ]
          },
          "metadata": {},
          "execution_count": 5
        }
      ]
    },
    {
      "cell_type": "markdown",
      "source": [
        "Define callback to stop training when its accuracy exceeds 98%."
      ],
      "metadata": {
        "id": "tz2sRryDJVAu"
      }
    },
    {
      "cell_type": "code",
      "source": [
        "class myCallback(tf.keras.callbacks.Callback):\n",
        "    def on_epoch_end(self, epoch, logs={}):\n",
        "        if logs.get('acc') is not None and logs.get('acc') > 0.98:\n",
        "            print(\"\\nReached 98% accuracy so cancelling training!\")\n",
        "            self.model.stop_training = True\n",
        "\n",
        "callbacks = myCallback()"
      ],
      "metadata": {
        "id": "QFKRTaseJZkT"
      },
      "execution_count": null,
      "outputs": []
    },
    {
      "cell_type": "markdown",
      "source": [
        "# PRE TRAINED MODEL - INCEPTION"
      ],
      "metadata": {
        "id": "AVS-apaXJgqw"
      }
    },
    {
      "cell_type": "markdown",
      "source": [
        "Load InceptionV3 weight file and use it to the InceptionV3 pre-trained model."
      ],
      "metadata": {
        "id": "GpjtosF_J7HC"
      }
    },
    {
      "cell_type": "code",
      "source": [
        "!wget --no-check-certificate \\\n",
        "    https://storage.googleapis.com/mledu-datasets/inception_v3_weights_tf_dim_ordering_tf_kernels_notop.h5 \\\n",
        "    -O /tmp/inception_v3_weights_tf_dim_ordering_tf_kernels_notop.h5"
      ],
      "metadata": {
        "colab": {
          "base_uri": "https://localhost:8080/"
        },
        "id": "p5W_6WfyJof3",
        "outputId": "16270d88-474f-400f-eab6-93fb3b95e494"
      },
      "execution_count": null,
      "outputs": [
        {
          "output_type": "stream",
          "name": "stdout",
          "text": [
            "--2022-06-02 02:43:15--  https://storage.googleapis.com/mledu-datasets/inception_v3_weights_tf_dim_ordering_tf_kernels_notop.h5\n",
            "Resolving storage.googleapis.com (storage.googleapis.com)... 142.250.1.128, 108.177.120.128, 142.250.128.128, ...\n",
            "Connecting to storage.googleapis.com (storage.googleapis.com)|142.250.1.128|:443... connected.\n",
            "HTTP request sent, awaiting response... 200 OK\n",
            "Length: 87910968 (84M) [application/x-hdf]\n",
            "Saving to: ‘/tmp/inception_v3_weights_tf_dim_ordering_tf_kernels_notop.h5’\n",
            "\n",
            "/tmp/inception_v3_w 100%[===================>]  83.84M   319MB/s    in 0.3s    \n",
            "\n",
            "2022-06-02 02:43:15 (319 MB/s) - ‘/tmp/inception_v3_weights_tf_dim_ordering_tf_kernels_notop.h5’ saved [87910968/87910968]\n",
            "\n"
          ]
        }
      ]
    },
    {
      "cell_type": "code",
      "source": [
        "# Import the inception model  \n",
        "from tensorflow.keras.applications.inception_v3 import InceptionV3\n",
        "\n",
        "# Create an instance of the inception model from the local pre-trained weights\n",
        "local_weights_file = '/tmp/inception_v3_weights_tf_dim_ordering_tf_kernels_notop.h5'"
      ],
      "metadata": {
        "id": "f8n-3LkRKA7O"
      },
      "execution_count": null,
      "outputs": []
    },
    {
      "cell_type": "markdown",
      "source": [
        "Build an instance of pre-trained model."
      ],
      "metadata": {
        "id": "LpNTO87VtPV4"
      }
    },
    {
      "cell_type": "code",
      "source": [
        "pre_trained_model = InceptionV3(input_shape = (224, 224, 3),\n",
        "                                include_top = False, \n",
        "                                weights = None) \n",
        "\n",
        "pre_trained_model.load_weights(local_weights_file)\n",
        "for layer in pre_trained_model.layers:\n",
        "  layer.trainable = False"
      ],
      "metadata": {
        "id": "z7WiPoZgKFJS"
      },
      "execution_count": null,
      "outputs": []
    },
    {
      "cell_type": "code",
      "source": [
        "pre_trained_model.summary()"
      ],
      "metadata": {
        "colab": {
          "base_uri": "https://localhost:8080/"
        },
        "id": "xUrDThpjKrpJ",
        "outputId": "024878e6-a4e7-4a2b-8bde-2625023eca20"
      },
      "execution_count": null,
      "outputs": [
        {
          "output_type": "stream",
          "name": "stdout",
          "text": [
            "Model: \"inception_v3\"\n",
            "__________________________________________________________________________________________________\n",
            " Layer (type)                   Output Shape         Param #     Connected to                     \n",
            "==================================================================================================\n",
            " input_4 (InputLayer)           [(None, 224, 224, 3  0           []                               \n",
            "                                )]                                                                \n",
            "                                                                                                  \n",
            " conv2d_282 (Conv2D)            (None, 111, 111, 32  864         ['input_4[0][0]']                \n",
            "                                )                                                                 \n",
            "                                                                                                  \n",
            " batch_normalization_282 (Batch  (None, 111, 111, 32  96         ['conv2d_282[0][0]']             \n",
            " Normalization)                 )                                                                 \n",
            "                                                                                                  \n",
            " activation_282 (Activation)    (None, 111, 111, 32  0           ['batch_normalization_282[0][0]']\n",
            "                                )                                                                 \n",
            "                                                                                                  \n",
            " conv2d_283 (Conv2D)            (None, 109, 109, 32  9216        ['activation_282[0][0]']         \n",
            "                                )                                                                 \n",
            "                                                                                                  \n",
            " batch_normalization_283 (Batch  (None, 109, 109, 32  96         ['conv2d_283[0][0]']             \n",
            " Normalization)                 )                                                                 \n",
            "                                                                                                  \n",
            " activation_283 (Activation)    (None, 109, 109, 32  0           ['batch_normalization_283[0][0]']\n",
            "                                )                                                                 \n",
            "                                                                                                  \n",
            " conv2d_284 (Conv2D)            (None, 109, 109, 64  18432       ['activation_283[0][0]']         \n",
            "                                )                                                                 \n",
            "                                                                                                  \n",
            " batch_normalization_284 (Batch  (None, 109, 109, 64  192        ['conv2d_284[0][0]']             \n",
            " Normalization)                 )                                                                 \n",
            "                                                                                                  \n",
            " activation_284 (Activation)    (None, 109, 109, 64  0           ['batch_normalization_284[0][0]']\n",
            "                                )                                                                 \n",
            "                                                                                                  \n",
            " max_pooling2d_12 (MaxPooling2D  (None, 54, 54, 64)  0           ['activation_284[0][0]']         \n",
            " )                                                                                                \n",
            "                                                                                                  \n",
            " conv2d_285 (Conv2D)            (None, 54, 54, 80)   5120        ['max_pooling2d_12[0][0]']       \n",
            "                                                                                                  \n",
            " batch_normalization_285 (Batch  (None, 54, 54, 80)  240         ['conv2d_285[0][0]']             \n",
            " Normalization)                                                                                   \n",
            "                                                                                                  \n",
            " activation_285 (Activation)    (None, 54, 54, 80)   0           ['batch_normalization_285[0][0]']\n",
            "                                                                                                  \n",
            " conv2d_286 (Conv2D)            (None, 52, 52, 192)  138240      ['activation_285[0][0]']         \n",
            "                                                                                                  \n",
            " batch_normalization_286 (Batch  (None, 52, 52, 192)  576        ['conv2d_286[0][0]']             \n",
            " Normalization)                                                                                   \n",
            "                                                                                                  \n",
            " activation_286 (Activation)    (None, 52, 52, 192)  0           ['batch_normalization_286[0][0]']\n",
            "                                                                                                  \n",
            " max_pooling2d_13 (MaxPooling2D  (None, 25, 25, 192)  0          ['activation_286[0][0]']         \n",
            " )                                                                                                \n",
            "                                                                                                  \n",
            " conv2d_290 (Conv2D)            (None, 25, 25, 64)   12288       ['max_pooling2d_13[0][0]']       \n",
            "                                                                                                  \n",
            " batch_normalization_290 (Batch  (None, 25, 25, 64)  192         ['conv2d_290[0][0]']             \n",
            " Normalization)                                                                                   \n",
            "                                                                                                  \n",
            " activation_290 (Activation)    (None, 25, 25, 64)   0           ['batch_normalization_290[0][0]']\n",
            "                                                                                                  \n",
            " conv2d_288 (Conv2D)            (None, 25, 25, 48)   9216        ['max_pooling2d_13[0][0]']       \n",
            "                                                                                                  \n",
            " conv2d_291 (Conv2D)            (None, 25, 25, 96)   55296       ['activation_290[0][0]']         \n",
            "                                                                                                  \n",
            " batch_normalization_288 (Batch  (None, 25, 25, 48)  144         ['conv2d_288[0][0]']             \n",
            " Normalization)                                                                                   \n",
            "                                                                                                  \n",
            " batch_normalization_291 (Batch  (None, 25, 25, 96)  288         ['conv2d_291[0][0]']             \n",
            " Normalization)                                                                                   \n",
            "                                                                                                  \n",
            " activation_288 (Activation)    (None, 25, 25, 48)   0           ['batch_normalization_288[0][0]']\n",
            "                                                                                                  \n",
            " activation_291 (Activation)    (None, 25, 25, 96)   0           ['batch_normalization_291[0][0]']\n",
            "                                                                                                  \n",
            " average_pooling2d_27 (AverageP  (None, 25, 25, 192)  0          ['max_pooling2d_13[0][0]']       \n",
            " ooling2D)                                                                                        \n",
            "                                                                                                  \n",
            " conv2d_287 (Conv2D)            (None, 25, 25, 64)   12288       ['max_pooling2d_13[0][0]']       \n",
            "                                                                                                  \n",
            " conv2d_289 (Conv2D)            (None, 25, 25, 64)   76800       ['activation_288[0][0]']         \n",
            "                                                                                                  \n",
            " conv2d_292 (Conv2D)            (None, 25, 25, 96)   82944       ['activation_291[0][0]']         \n",
            "                                                                                                  \n",
            " conv2d_293 (Conv2D)            (None, 25, 25, 32)   6144        ['average_pooling2d_27[0][0]']   \n",
            "                                                                                                  \n",
            " batch_normalization_287 (Batch  (None, 25, 25, 64)  192         ['conv2d_287[0][0]']             \n",
            " Normalization)                                                                                   \n",
            "                                                                                                  \n",
            " batch_normalization_289 (Batch  (None, 25, 25, 64)  192         ['conv2d_289[0][0]']             \n",
            " Normalization)                                                                                   \n",
            "                                                                                                  \n",
            " batch_normalization_292 (Batch  (None, 25, 25, 96)  288         ['conv2d_292[0][0]']             \n",
            " Normalization)                                                                                   \n",
            "                                                                                                  \n",
            " batch_normalization_293 (Batch  (None, 25, 25, 32)  96          ['conv2d_293[0][0]']             \n",
            " Normalization)                                                                                   \n",
            "                                                                                                  \n",
            " activation_287 (Activation)    (None, 25, 25, 64)   0           ['batch_normalization_287[0][0]']\n",
            "                                                                                                  \n",
            " activation_289 (Activation)    (None, 25, 25, 64)   0           ['batch_normalization_289[0][0]']\n",
            "                                                                                                  \n",
            " activation_292 (Activation)    (None, 25, 25, 96)   0           ['batch_normalization_292[0][0]']\n",
            "                                                                                                  \n",
            " activation_293 (Activation)    (None, 25, 25, 32)   0           ['batch_normalization_293[0][0]']\n",
            "                                                                                                  \n",
            " mixed0 (Concatenate)           (None, 25, 25, 256)  0           ['activation_287[0][0]',         \n",
            "                                                                  'activation_289[0][0]',         \n",
            "                                                                  'activation_292[0][0]',         \n",
            "                                                                  'activation_293[0][0]']         \n",
            "                                                                                                  \n",
            " conv2d_297 (Conv2D)            (None, 25, 25, 64)   16384       ['mixed0[0][0]']                 \n",
            "                                                                                                  \n",
            " batch_normalization_297 (Batch  (None, 25, 25, 64)  192         ['conv2d_297[0][0]']             \n",
            " Normalization)                                                                                   \n",
            "                                                                                                  \n",
            " activation_297 (Activation)    (None, 25, 25, 64)   0           ['batch_normalization_297[0][0]']\n",
            "                                                                                                  \n",
            " conv2d_295 (Conv2D)            (None, 25, 25, 48)   12288       ['mixed0[0][0]']                 \n",
            "                                                                                                  \n",
            " conv2d_298 (Conv2D)            (None, 25, 25, 96)   55296       ['activation_297[0][0]']         \n",
            "                                                                                                  \n",
            " batch_normalization_295 (Batch  (None, 25, 25, 48)  144         ['conv2d_295[0][0]']             \n",
            " Normalization)                                                                                   \n",
            "                                                                                                  \n",
            " batch_normalization_298 (Batch  (None, 25, 25, 96)  288         ['conv2d_298[0][0]']             \n",
            " Normalization)                                                                                   \n",
            "                                                                                                  \n",
            " activation_295 (Activation)    (None, 25, 25, 48)   0           ['batch_normalization_295[0][0]']\n",
            "                                                                                                  \n",
            " activation_298 (Activation)    (None, 25, 25, 96)   0           ['batch_normalization_298[0][0]']\n",
            "                                                                                                  \n",
            " average_pooling2d_28 (AverageP  (None, 25, 25, 256)  0          ['mixed0[0][0]']                 \n",
            " ooling2D)                                                                                        \n",
            "                                                                                                  \n",
            " conv2d_294 (Conv2D)            (None, 25, 25, 64)   16384       ['mixed0[0][0]']                 \n",
            "                                                                                                  \n",
            " conv2d_296 (Conv2D)            (None, 25, 25, 64)   76800       ['activation_295[0][0]']         \n",
            "                                                                                                  \n",
            " conv2d_299 (Conv2D)            (None, 25, 25, 96)   82944       ['activation_298[0][0]']         \n",
            "                                                                                                  \n",
            " conv2d_300 (Conv2D)            (None, 25, 25, 64)   16384       ['average_pooling2d_28[0][0]']   \n",
            "                                                                                                  \n",
            " batch_normalization_294 (Batch  (None, 25, 25, 64)  192         ['conv2d_294[0][0]']             \n",
            " Normalization)                                                                                   \n",
            "                                                                                                  \n",
            " batch_normalization_296 (Batch  (None, 25, 25, 64)  192         ['conv2d_296[0][0]']             \n",
            " Normalization)                                                                                   \n",
            "                                                                                                  \n",
            " batch_normalization_299 (Batch  (None, 25, 25, 96)  288         ['conv2d_299[0][0]']             \n",
            " Normalization)                                                                                   \n",
            "                                                                                                  \n",
            " batch_normalization_300 (Batch  (None, 25, 25, 64)  192         ['conv2d_300[0][0]']             \n",
            " Normalization)                                                                                   \n",
            "                                                                                                  \n",
            " activation_294 (Activation)    (None, 25, 25, 64)   0           ['batch_normalization_294[0][0]']\n",
            "                                                                                                  \n",
            " activation_296 (Activation)    (None, 25, 25, 64)   0           ['batch_normalization_296[0][0]']\n",
            "                                                                                                  \n",
            " activation_299 (Activation)    (None, 25, 25, 96)   0           ['batch_normalization_299[0][0]']\n",
            "                                                                                                  \n",
            " activation_300 (Activation)    (None, 25, 25, 64)   0           ['batch_normalization_300[0][0]']\n",
            "                                                                                                  \n",
            " mixed1 (Concatenate)           (None, 25, 25, 288)  0           ['activation_294[0][0]',         \n",
            "                                                                  'activation_296[0][0]',         \n",
            "                                                                  'activation_299[0][0]',         \n",
            "                                                                  'activation_300[0][0]']         \n",
            "                                                                                                  \n",
            " conv2d_304 (Conv2D)            (None, 25, 25, 64)   18432       ['mixed1[0][0]']                 \n",
            "                                                                                                  \n",
            " batch_normalization_304 (Batch  (None, 25, 25, 64)  192         ['conv2d_304[0][0]']             \n",
            " Normalization)                                                                                   \n",
            "                                                                                                  \n",
            " activation_304 (Activation)    (None, 25, 25, 64)   0           ['batch_normalization_304[0][0]']\n",
            "                                                                                                  \n",
            " conv2d_302 (Conv2D)            (None, 25, 25, 48)   13824       ['mixed1[0][0]']                 \n",
            "                                                                                                  \n",
            " conv2d_305 (Conv2D)            (None, 25, 25, 96)   55296       ['activation_304[0][0]']         \n",
            "                                                                                                  \n",
            " batch_normalization_302 (Batch  (None, 25, 25, 48)  144         ['conv2d_302[0][0]']             \n",
            " Normalization)                                                                                   \n",
            "                                                                                                  \n",
            " batch_normalization_305 (Batch  (None, 25, 25, 96)  288         ['conv2d_305[0][0]']             \n",
            " Normalization)                                                                                   \n",
            "                                                                                                  \n",
            " activation_302 (Activation)    (None, 25, 25, 48)   0           ['batch_normalization_302[0][0]']\n",
            "                                                                                                  \n",
            " activation_305 (Activation)    (None, 25, 25, 96)   0           ['batch_normalization_305[0][0]']\n",
            "                                                                                                  \n",
            " average_pooling2d_29 (AverageP  (None, 25, 25, 288)  0          ['mixed1[0][0]']                 \n",
            " ooling2D)                                                                                        \n",
            "                                                                                                  \n",
            " conv2d_301 (Conv2D)            (None, 25, 25, 64)   18432       ['mixed1[0][0]']                 \n",
            "                                                                                                  \n",
            " conv2d_303 (Conv2D)            (None, 25, 25, 64)   76800       ['activation_302[0][0]']         \n",
            "                                                                                                  \n",
            " conv2d_306 (Conv2D)            (None, 25, 25, 96)   82944       ['activation_305[0][0]']         \n",
            "                                                                                                  \n",
            " conv2d_307 (Conv2D)            (None, 25, 25, 64)   18432       ['average_pooling2d_29[0][0]']   \n",
            "                                                                                                  \n",
            " batch_normalization_301 (Batch  (None, 25, 25, 64)  192         ['conv2d_301[0][0]']             \n",
            " Normalization)                                                                                   \n",
            "                                                                                                  \n",
            " batch_normalization_303 (Batch  (None, 25, 25, 64)  192         ['conv2d_303[0][0]']             \n",
            " Normalization)                                                                                   \n",
            "                                                                                                  \n",
            " batch_normalization_306 (Batch  (None, 25, 25, 96)  288         ['conv2d_306[0][0]']             \n",
            " Normalization)                                                                                   \n",
            "                                                                                                  \n",
            " batch_normalization_307 (Batch  (None, 25, 25, 64)  192         ['conv2d_307[0][0]']             \n",
            " Normalization)                                                                                   \n",
            "                                                                                                  \n",
            " activation_301 (Activation)    (None, 25, 25, 64)   0           ['batch_normalization_301[0][0]']\n",
            "                                                                                                  \n",
            " activation_303 (Activation)    (None, 25, 25, 64)   0           ['batch_normalization_303[0][0]']\n",
            "                                                                                                  \n",
            " activation_306 (Activation)    (None, 25, 25, 96)   0           ['batch_normalization_306[0][0]']\n",
            "                                                                                                  \n",
            " activation_307 (Activation)    (None, 25, 25, 64)   0           ['batch_normalization_307[0][0]']\n",
            "                                                                                                  \n",
            " mixed2 (Concatenate)           (None, 25, 25, 288)  0           ['activation_301[0][0]',         \n",
            "                                                                  'activation_303[0][0]',         \n",
            "                                                                  'activation_306[0][0]',         \n",
            "                                                                  'activation_307[0][0]']         \n",
            "                                                                                                  \n",
            " conv2d_309 (Conv2D)            (None, 25, 25, 64)   18432       ['mixed2[0][0]']                 \n",
            "                                                                                                  \n",
            " batch_normalization_309 (Batch  (None, 25, 25, 64)  192         ['conv2d_309[0][0]']             \n",
            " Normalization)                                                                                   \n",
            "                                                                                                  \n",
            " activation_309 (Activation)    (None, 25, 25, 64)   0           ['batch_normalization_309[0][0]']\n",
            "                                                                                                  \n",
            " conv2d_310 (Conv2D)            (None, 25, 25, 96)   55296       ['activation_309[0][0]']         \n",
            "                                                                                                  \n",
            " batch_normalization_310 (Batch  (None, 25, 25, 96)  288         ['conv2d_310[0][0]']             \n",
            " Normalization)                                                                                   \n",
            "                                                                                                  \n",
            " activation_310 (Activation)    (None, 25, 25, 96)   0           ['batch_normalization_310[0][0]']\n",
            "                                                                                                  \n",
            " conv2d_308 (Conv2D)            (None, 12, 12, 384)  995328      ['mixed2[0][0]']                 \n",
            "                                                                                                  \n",
            " conv2d_311 (Conv2D)            (None, 12, 12, 96)   82944       ['activation_310[0][0]']         \n",
            "                                                                                                  \n",
            " batch_normalization_308 (Batch  (None, 12, 12, 384)  1152       ['conv2d_308[0][0]']             \n",
            " Normalization)                                                                                   \n",
            "                                                                                                  \n",
            " batch_normalization_311 (Batch  (None, 12, 12, 96)  288         ['conv2d_311[0][0]']             \n",
            " Normalization)                                                                                   \n",
            "                                                                                                  \n",
            " activation_308 (Activation)    (None, 12, 12, 384)  0           ['batch_normalization_308[0][0]']\n",
            "                                                                                                  \n",
            " activation_311 (Activation)    (None, 12, 12, 96)   0           ['batch_normalization_311[0][0]']\n",
            "                                                                                                  \n",
            " max_pooling2d_14 (MaxPooling2D  (None, 12, 12, 288)  0          ['mixed2[0][0]']                 \n",
            " )                                                                                                \n",
            "                                                                                                  \n",
            " mixed3 (Concatenate)           (None, 12, 12, 768)  0           ['activation_308[0][0]',         \n",
            "                                                                  'activation_311[0][0]',         \n",
            "                                                                  'max_pooling2d_14[0][0]']       \n",
            "                                                                                                  \n",
            " conv2d_316 (Conv2D)            (None, 12, 12, 128)  98304       ['mixed3[0][0]']                 \n",
            "                                                                                                  \n",
            " batch_normalization_316 (Batch  (None, 12, 12, 128)  384        ['conv2d_316[0][0]']             \n",
            " Normalization)                                                                                   \n",
            "                                                                                                  \n",
            " activation_316 (Activation)    (None, 12, 12, 128)  0           ['batch_normalization_316[0][0]']\n",
            "                                                                                                  \n",
            " conv2d_317 (Conv2D)            (None, 12, 12, 128)  114688      ['activation_316[0][0]']         \n",
            "                                                                                                  \n",
            " batch_normalization_317 (Batch  (None, 12, 12, 128)  384        ['conv2d_317[0][0]']             \n",
            " Normalization)                                                                                   \n",
            "                                                                                                  \n",
            " activation_317 (Activation)    (None, 12, 12, 128)  0           ['batch_normalization_317[0][0]']\n",
            "                                                                                                  \n",
            " conv2d_313 (Conv2D)            (None, 12, 12, 128)  98304       ['mixed3[0][0]']                 \n",
            "                                                                                                  \n",
            " conv2d_318 (Conv2D)            (None, 12, 12, 128)  114688      ['activation_317[0][0]']         \n",
            "                                                                                                  \n",
            " batch_normalization_313 (Batch  (None, 12, 12, 128)  384        ['conv2d_313[0][0]']             \n",
            " Normalization)                                                                                   \n",
            "                                                                                                  \n",
            " batch_normalization_318 (Batch  (None, 12, 12, 128)  384        ['conv2d_318[0][0]']             \n",
            " Normalization)                                                                                   \n",
            "                                                                                                  \n",
            " activation_313 (Activation)    (None, 12, 12, 128)  0           ['batch_normalization_313[0][0]']\n",
            "                                                                                                  \n",
            " activation_318 (Activation)    (None, 12, 12, 128)  0           ['batch_normalization_318[0][0]']\n",
            "                                                                                                  \n",
            " conv2d_314 (Conv2D)            (None, 12, 12, 128)  114688      ['activation_313[0][0]']         \n",
            "                                                                                                  \n",
            " conv2d_319 (Conv2D)            (None, 12, 12, 128)  114688      ['activation_318[0][0]']         \n",
            "                                                                                                  \n",
            " batch_normalization_314 (Batch  (None, 12, 12, 128)  384        ['conv2d_314[0][0]']             \n",
            " Normalization)                                                                                   \n",
            "                                                                                                  \n",
            " batch_normalization_319 (Batch  (None, 12, 12, 128)  384        ['conv2d_319[0][0]']             \n",
            " Normalization)                                                                                   \n",
            "                                                                                                  \n",
            " activation_314 (Activation)    (None, 12, 12, 128)  0           ['batch_normalization_314[0][0]']\n",
            "                                                                                                  \n",
            " activation_319 (Activation)    (None, 12, 12, 128)  0           ['batch_normalization_319[0][0]']\n",
            "                                                                                                  \n",
            " average_pooling2d_30 (AverageP  (None, 12, 12, 768)  0          ['mixed3[0][0]']                 \n",
            " ooling2D)                                                                                        \n",
            "                                                                                                  \n",
            " conv2d_312 (Conv2D)            (None, 12, 12, 192)  147456      ['mixed3[0][0]']                 \n",
            "                                                                                                  \n",
            " conv2d_315 (Conv2D)            (None, 12, 12, 192)  172032      ['activation_314[0][0]']         \n",
            "                                                                                                  \n",
            " conv2d_320 (Conv2D)            (None, 12, 12, 192)  172032      ['activation_319[0][0]']         \n",
            "                                                                                                  \n",
            " conv2d_321 (Conv2D)            (None, 12, 12, 192)  147456      ['average_pooling2d_30[0][0]']   \n",
            "                                                                                                  \n",
            " batch_normalization_312 (Batch  (None, 12, 12, 192)  576        ['conv2d_312[0][0]']             \n",
            " Normalization)                                                                                   \n",
            "                                                                                                  \n",
            " batch_normalization_315 (Batch  (None, 12, 12, 192)  576        ['conv2d_315[0][0]']             \n",
            " Normalization)                                                                                   \n",
            "                                                                                                  \n",
            " batch_normalization_320 (Batch  (None, 12, 12, 192)  576        ['conv2d_320[0][0]']             \n",
            " Normalization)                                                                                   \n",
            "                                                                                                  \n",
            " batch_normalization_321 (Batch  (None, 12, 12, 192)  576        ['conv2d_321[0][0]']             \n",
            " Normalization)                                                                                   \n",
            "                                                                                                  \n",
            " activation_312 (Activation)    (None, 12, 12, 192)  0           ['batch_normalization_312[0][0]']\n",
            "                                                                                                  \n",
            " activation_315 (Activation)    (None, 12, 12, 192)  0           ['batch_normalization_315[0][0]']\n",
            "                                                                                                  \n",
            " activation_320 (Activation)    (None, 12, 12, 192)  0           ['batch_normalization_320[0][0]']\n",
            "                                                                                                  \n",
            " activation_321 (Activation)    (None, 12, 12, 192)  0           ['batch_normalization_321[0][0]']\n",
            "                                                                                                  \n",
            " mixed4 (Concatenate)           (None, 12, 12, 768)  0           ['activation_312[0][0]',         \n",
            "                                                                  'activation_315[0][0]',         \n",
            "                                                                  'activation_320[0][0]',         \n",
            "                                                                  'activation_321[0][0]']         \n",
            "                                                                                                  \n",
            " conv2d_326 (Conv2D)            (None, 12, 12, 160)  122880      ['mixed4[0][0]']                 \n",
            "                                                                                                  \n",
            " batch_normalization_326 (Batch  (None, 12, 12, 160)  480        ['conv2d_326[0][0]']             \n",
            " Normalization)                                                                                   \n",
            "                                                                                                  \n",
            " activation_326 (Activation)    (None, 12, 12, 160)  0           ['batch_normalization_326[0][0]']\n",
            "                                                                                                  \n",
            " conv2d_327 (Conv2D)            (None, 12, 12, 160)  179200      ['activation_326[0][0]']         \n",
            "                                                                                                  \n",
            " batch_normalization_327 (Batch  (None, 12, 12, 160)  480        ['conv2d_327[0][0]']             \n",
            " Normalization)                                                                                   \n",
            "                                                                                                  \n",
            " activation_327 (Activation)    (None, 12, 12, 160)  0           ['batch_normalization_327[0][0]']\n",
            "                                                                                                  \n",
            " conv2d_323 (Conv2D)            (None, 12, 12, 160)  122880      ['mixed4[0][0]']                 \n",
            "                                                                                                  \n",
            " conv2d_328 (Conv2D)            (None, 12, 12, 160)  179200      ['activation_327[0][0]']         \n",
            "                                                                                                  \n",
            " batch_normalization_323 (Batch  (None, 12, 12, 160)  480        ['conv2d_323[0][0]']             \n",
            " Normalization)                                                                                   \n",
            "                                                                                                  \n",
            " batch_normalization_328 (Batch  (None, 12, 12, 160)  480        ['conv2d_328[0][0]']             \n",
            " Normalization)                                                                                   \n",
            "                                                                                                  \n",
            " activation_323 (Activation)    (None, 12, 12, 160)  0           ['batch_normalization_323[0][0]']\n",
            "                                                                                                  \n",
            " activation_328 (Activation)    (None, 12, 12, 160)  0           ['batch_normalization_328[0][0]']\n",
            "                                                                                                  \n",
            " conv2d_324 (Conv2D)            (None, 12, 12, 160)  179200      ['activation_323[0][0]']         \n",
            "                                                                                                  \n",
            " conv2d_329 (Conv2D)            (None, 12, 12, 160)  179200      ['activation_328[0][0]']         \n",
            "                                                                                                  \n",
            " batch_normalization_324 (Batch  (None, 12, 12, 160)  480        ['conv2d_324[0][0]']             \n",
            " Normalization)                                                                                   \n",
            "                                                                                                  \n",
            " batch_normalization_329 (Batch  (None, 12, 12, 160)  480        ['conv2d_329[0][0]']             \n",
            " Normalization)                                                                                   \n",
            "                                                                                                  \n",
            " activation_324 (Activation)    (None, 12, 12, 160)  0           ['batch_normalization_324[0][0]']\n",
            "                                                                                                  \n",
            " activation_329 (Activation)    (None, 12, 12, 160)  0           ['batch_normalization_329[0][0]']\n",
            "                                                                                                  \n",
            " average_pooling2d_31 (AverageP  (None, 12, 12, 768)  0          ['mixed4[0][0]']                 \n",
            " ooling2D)                                                                                        \n",
            "                                                                                                  \n",
            " conv2d_322 (Conv2D)            (None, 12, 12, 192)  147456      ['mixed4[0][0]']                 \n",
            "                                                                                                  \n",
            " conv2d_325 (Conv2D)            (None, 12, 12, 192)  215040      ['activation_324[0][0]']         \n",
            "                                                                                                  \n",
            " conv2d_330 (Conv2D)            (None, 12, 12, 192)  215040      ['activation_329[0][0]']         \n",
            "                                                                                                  \n",
            " conv2d_331 (Conv2D)            (None, 12, 12, 192)  147456      ['average_pooling2d_31[0][0]']   \n",
            "                                                                                                  \n",
            " batch_normalization_322 (Batch  (None, 12, 12, 192)  576        ['conv2d_322[0][0]']             \n",
            " Normalization)                                                                                   \n",
            "                                                                                                  \n",
            " batch_normalization_325 (Batch  (None, 12, 12, 192)  576        ['conv2d_325[0][0]']             \n",
            " Normalization)                                                                                   \n",
            "                                                                                                  \n",
            " batch_normalization_330 (Batch  (None, 12, 12, 192)  576        ['conv2d_330[0][0]']             \n",
            " Normalization)                                                                                   \n",
            "                                                                                                  \n",
            " batch_normalization_331 (Batch  (None, 12, 12, 192)  576        ['conv2d_331[0][0]']             \n",
            " Normalization)                                                                                   \n",
            "                                                                                                  \n",
            " activation_322 (Activation)    (None, 12, 12, 192)  0           ['batch_normalization_322[0][0]']\n",
            "                                                                                                  \n",
            " activation_325 (Activation)    (None, 12, 12, 192)  0           ['batch_normalization_325[0][0]']\n",
            "                                                                                                  \n",
            " activation_330 (Activation)    (None, 12, 12, 192)  0           ['batch_normalization_330[0][0]']\n",
            "                                                                                                  \n",
            " activation_331 (Activation)    (None, 12, 12, 192)  0           ['batch_normalization_331[0][0]']\n",
            "                                                                                                  \n",
            " mixed5 (Concatenate)           (None, 12, 12, 768)  0           ['activation_322[0][0]',         \n",
            "                                                                  'activation_325[0][0]',         \n",
            "                                                                  'activation_330[0][0]',         \n",
            "                                                                  'activation_331[0][0]']         \n",
            "                                                                                                  \n",
            " conv2d_336 (Conv2D)            (None, 12, 12, 160)  122880      ['mixed5[0][0]']                 \n",
            "                                                                                                  \n",
            " batch_normalization_336 (Batch  (None, 12, 12, 160)  480        ['conv2d_336[0][0]']             \n",
            " Normalization)                                                                                   \n",
            "                                                                                                  \n",
            " activation_336 (Activation)    (None, 12, 12, 160)  0           ['batch_normalization_336[0][0]']\n",
            "                                                                                                  \n",
            " conv2d_337 (Conv2D)            (None, 12, 12, 160)  179200      ['activation_336[0][0]']         \n",
            "                                                                                                  \n",
            " batch_normalization_337 (Batch  (None, 12, 12, 160)  480        ['conv2d_337[0][0]']             \n",
            " Normalization)                                                                                   \n",
            "                                                                                                  \n",
            " activation_337 (Activation)    (None, 12, 12, 160)  0           ['batch_normalization_337[0][0]']\n",
            "                                                                                                  \n",
            " conv2d_333 (Conv2D)            (None, 12, 12, 160)  122880      ['mixed5[0][0]']                 \n",
            "                                                                                                  \n",
            " conv2d_338 (Conv2D)            (None, 12, 12, 160)  179200      ['activation_337[0][0]']         \n",
            "                                                                                                  \n",
            " batch_normalization_333 (Batch  (None, 12, 12, 160)  480        ['conv2d_333[0][0]']             \n",
            " Normalization)                                                                                   \n",
            "                                                                                                  \n",
            " batch_normalization_338 (Batch  (None, 12, 12, 160)  480        ['conv2d_338[0][0]']             \n",
            " Normalization)                                                                                   \n",
            "                                                                                                  \n",
            " activation_333 (Activation)    (None, 12, 12, 160)  0           ['batch_normalization_333[0][0]']\n",
            "                                                                                                  \n",
            " activation_338 (Activation)    (None, 12, 12, 160)  0           ['batch_normalization_338[0][0]']\n",
            "                                                                                                  \n",
            " conv2d_334 (Conv2D)            (None, 12, 12, 160)  179200      ['activation_333[0][0]']         \n",
            "                                                                                                  \n",
            " conv2d_339 (Conv2D)            (None, 12, 12, 160)  179200      ['activation_338[0][0]']         \n",
            "                                                                                                  \n",
            " batch_normalization_334 (Batch  (None, 12, 12, 160)  480        ['conv2d_334[0][0]']             \n",
            " Normalization)                                                                                   \n",
            "                                                                                                  \n",
            " batch_normalization_339 (Batch  (None, 12, 12, 160)  480        ['conv2d_339[0][0]']             \n",
            " Normalization)                                                                                   \n",
            "                                                                                                  \n",
            " activation_334 (Activation)    (None, 12, 12, 160)  0           ['batch_normalization_334[0][0]']\n",
            "                                                                                                  \n",
            " activation_339 (Activation)    (None, 12, 12, 160)  0           ['batch_normalization_339[0][0]']\n",
            "                                                                                                  \n",
            " average_pooling2d_32 (AverageP  (None, 12, 12, 768)  0          ['mixed5[0][0]']                 \n",
            " ooling2D)                                                                                        \n",
            "                                                                                                  \n",
            " conv2d_332 (Conv2D)            (None, 12, 12, 192)  147456      ['mixed5[0][0]']                 \n",
            "                                                                                                  \n",
            " conv2d_335 (Conv2D)            (None, 12, 12, 192)  215040      ['activation_334[0][0]']         \n",
            "                                                                                                  \n",
            " conv2d_340 (Conv2D)            (None, 12, 12, 192)  215040      ['activation_339[0][0]']         \n",
            "                                                                                                  \n",
            " conv2d_341 (Conv2D)            (None, 12, 12, 192)  147456      ['average_pooling2d_32[0][0]']   \n",
            "                                                                                                  \n",
            " batch_normalization_332 (Batch  (None, 12, 12, 192)  576        ['conv2d_332[0][0]']             \n",
            " Normalization)                                                                                   \n",
            "                                                                                                  \n",
            " batch_normalization_335 (Batch  (None, 12, 12, 192)  576        ['conv2d_335[0][0]']             \n",
            " Normalization)                                                                                   \n",
            "                                                                                                  \n",
            " batch_normalization_340 (Batch  (None, 12, 12, 192)  576        ['conv2d_340[0][0]']             \n",
            " Normalization)                                                                                   \n",
            "                                                                                                  \n",
            " batch_normalization_341 (Batch  (None, 12, 12, 192)  576        ['conv2d_341[0][0]']             \n",
            " Normalization)                                                                                   \n",
            "                                                                                                  \n",
            " activation_332 (Activation)    (None, 12, 12, 192)  0           ['batch_normalization_332[0][0]']\n",
            "                                                                                                  \n",
            " activation_335 (Activation)    (None, 12, 12, 192)  0           ['batch_normalization_335[0][0]']\n",
            "                                                                                                  \n",
            " activation_340 (Activation)    (None, 12, 12, 192)  0           ['batch_normalization_340[0][0]']\n",
            "                                                                                                  \n",
            " activation_341 (Activation)    (None, 12, 12, 192)  0           ['batch_normalization_341[0][0]']\n",
            "                                                                                                  \n",
            " mixed6 (Concatenate)           (None, 12, 12, 768)  0           ['activation_332[0][0]',         \n",
            "                                                                  'activation_335[0][0]',         \n",
            "                                                                  'activation_340[0][0]',         \n",
            "                                                                  'activation_341[0][0]']         \n",
            "                                                                                                  \n",
            " conv2d_346 (Conv2D)            (None, 12, 12, 192)  147456      ['mixed6[0][0]']                 \n",
            "                                                                                                  \n",
            " batch_normalization_346 (Batch  (None, 12, 12, 192)  576        ['conv2d_346[0][0]']             \n",
            " Normalization)                                                                                   \n",
            "                                                                                                  \n",
            " activation_346 (Activation)    (None, 12, 12, 192)  0           ['batch_normalization_346[0][0]']\n",
            "                                                                                                  \n",
            " conv2d_347 (Conv2D)            (None, 12, 12, 192)  258048      ['activation_346[0][0]']         \n",
            "                                                                                                  \n",
            " batch_normalization_347 (Batch  (None, 12, 12, 192)  576        ['conv2d_347[0][0]']             \n",
            " Normalization)                                                                                   \n",
            "                                                                                                  \n",
            " activation_347 (Activation)    (None, 12, 12, 192)  0           ['batch_normalization_347[0][0]']\n",
            "                                                                                                  \n",
            " conv2d_343 (Conv2D)            (None, 12, 12, 192)  147456      ['mixed6[0][0]']                 \n",
            "                                                                                                  \n",
            " conv2d_348 (Conv2D)            (None, 12, 12, 192)  258048      ['activation_347[0][0]']         \n",
            "                                                                                                  \n",
            " batch_normalization_343 (Batch  (None, 12, 12, 192)  576        ['conv2d_343[0][0]']             \n",
            " Normalization)                                                                                   \n",
            "                                                                                                  \n",
            " batch_normalization_348 (Batch  (None, 12, 12, 192)  576        ['conv2d_348[0][0]']             \n",
            " Normalization)                                                                                   \n",
            "                                                                                                  \n",
            " activation_343 (Activation)    (None, 12, 12, 192)  0           ['batch_normalization_343[0][0]']\n",
            "                                                                                                  \n",
            " activation_348 (Activation)    (None, 12, 12, 192)  0           ['batch_normalization_348[0][0]']\n",
            "                                                                                                  \n",
            " conv2d_344 (Conv2D)            (None, 12, 12, 192)  258048      ['activation_343[0][0]']         \n",
            "                                                                                                  \n",
            " conv2d_349 (Conv2D)            (None, 12, 12, 192)  258048      ['activation_348[0][0]']         \n",
            "                                                                                                  \n",
            " batch_normalization_344 (Batch  (None, 12, 12, 192)  576        ['conv2d_344[0][0]']             \n",
            " Normalization)                                                                                   \n",
            "                                                                                                  \n",
            " batch_normalization_349 (Batch  (None, 12, 12, 192)  576        ['conv2d_349[0][0]']             \n",
            " Normalization)                                                                                   \n",
            "                                                                                                  \n",
            " activation_344 (Activation)    (None, 12, 12, 192)  0           ['batch_normalization_344[0][0]']\n",
            "                                                                                                  \n",
            " activation_349 (Activation)    (None, 12, 12, 192)  0           ['batch_normalization_349[0][0]']\n",
            "                                                                                                  \n",
            " average_pooling2d_33 (AverageP  (None, 12, 12, 768)  0          ['mixed6[0][0]']                 \n",
            " ooling2D)                                                                                        \n",
            "                                                                                                  \n",
            " conv2d_342 (Conv2D)            (None, 12, 12, 192)  147456      ['mixed6[0][0]']                 \n",
            "                                                                                                  \n",
            " conv2d_345 (Conv2D)            (None, 12, 12, 192)  258048      ['activation_344[0][0]']         \n",
            "                                                                                                  \n",
            " conv2d_350 (Conv2D)            (None, 12, 12, 192)  258048      ['activation_349[0][0]']         \n",
            "                                                                                                  \n",
            " conv2d_351 (Conv2D)            (None, 12, 12, 192)  147456      ['average_pooling2d_33[0][0]']   \n",
            "                                                                                                  \n",
            " batch_normalization_342 (Batch  (None, 12, 12, 192)  576        ['conv2d_342[0][0]']             \n",
            " Normalization)                                                                                   \n",
            "                                                                                                  \n",
            " batch_normalization_345 (Batch  (None, 12, 12, 192)  576        ['conv2d_345[0][0]']             \n",
            " Normalization)                                                                                   \n",
            "                                                                                                  \n",
            " batch_normalization_350 (Batch  (None, 12, 12, 192)  576        ['conv2d_350[0][0]']             \n",
            " Normalization)                                                                                   \n",
            "                                                                                                  \n",
            " batch_normalization_351 (Batch  (None, 12, 12, 192)  576        ['conv2d_351[0][0]']             \n",
            " Normalization)                                                                                   \n",
            "                                                                                                  \n",
            " activation_342 (Activation)    (None, 12, 12, 192)  0           ['batch_normalization_342[0][0]']\n",
            "                                                                                                  \n",
            " activation_345 (Activation)    (None, 12, 12, 192)  0           ['batch_normalization_345[0][0]']\n",
            "                                                                                                  \n",
            " activation_350 (Activation)    (None, 12, 12, 192)  0           ['batch_normalization_350[0][0]']\n",
            "                                                                                                  \n",
            " activation_351 (Activation)    (None, 12, 12, 192)  0           ['batch_normalization_351[0][0]']\n",
            "                                                                                                  \n",
            " mixed7 (Concatenate)           (None, 12, 12, 768)  0           ['activation_342[0][0]',         \n",
            "                                                                  'activation_345[0][0]',         \n",
            "                                                                  'activation_350[0][0]',         \n",
            "                                                                  'activation_351[0][0]']         \n",
            "                                                                                                  \n",
            " conv2d_354 (Conv2D)            (None, 12, 12, 192)  147456      ['mixed7[0][0]']                 \n",
            "                                                                                                  \n",
            " batch_normalization_354 (Batch  (None, 12, 12, 192)  576        ['conv2d_354[0][0]']             \n",
            " Normalization)                                                                                   \n",
            "                                                                                                  \n",
            " activation_354 (Activation)    (None, 12, 12, 192)  0           ['batch_normalization_354[0][0]']\n",
            "                                                                                                  \n",
            " conv2d_355 (Conv2D)            (None, 12, 12, 192)  258048      ['activation_354[0][0]']         \n",
            "                                                                                                  \n",
            " batch_normalization_355 (Batch  (None, 12, 12, 192)  576        ['conv2d_355[0][0]']             \n",
            " Normalization)                                                                                   \n",
            "                                                                                                  \n",
            " activation_355 (Activation)    (None, 12, 12, 192)  0           ['batch_normalization_355[0][0]']\n",
            "                                                                                                  \n",
            " conv2d_352 (Conv2D)            (None, 12, 12, 192)  147456      ['mixed7[0][0]']                 \n",
            "                                                                                                  \n",
            " conv2d_356 (Conv2D)            (None, 12, 12, 192)  258048      ['activation_355[0][0]']         \n",
            "                                                                                                  \n",
            " batch_normalization_352 (Batch  (None, 12, 12, 192)  576        ['conv2d_352[0][0]']             \n",
            " Normalization)                                                                                   \n",
            "                                                                                                  \n",
            " batch_normalization_356 (Batch  (None, 12, 12, 192)  576        ['conv2d_356[0][0]']             \n",
            " Normalization)                                                                                   \n",
            "                                                                                                  \n",
            " activation_352 (Activation)    (None, 12, 12, 192)  0           ['batch_normalization_352[0][0]']\n",
            "                                                                                                  \n",
            " activation_356 (Activation)    (None, 12, 12, 192)  0           ['batch_normalization_356[0][0]']\n",
            "                                                                                                  \n",
            " conv2d_353 (Conv2D)            (None, 5, 5, 320)    552960      ['activation_352[0][0]']         \n",
            "                                                                                                  \n",
            " conv2d_357 (Conv2D)            (None, 5, 5, 192)    331776      ['activation_356[0][0]']         \n",
            "                                                                                                  \n",
            " batch_normalization_353 (Batch  (None, 5, 5, 320)   960         ['conv2d_353[0][0]']             \n",
            " Normalization)                                                                                   \n",
            "                                                                                                  \n",
            " batch_normalization_357 (Batch  (None, 5, 5, 192)   576         ['conv2d_357[0][0]']             \n",
            " Normalization)                                                                                   \n",
            "                                                                                                  \n",
            " activation_353 (Activation)    (None, 5, 5, 320)    0           ['batch_normalization_353[0][0]']\n",
            "                                                                                                  \n",
            " activation_357 (Activation)    (None, 5, 5, 192)    0           ['batch_normalization_357[0][0]']\n",
            "                                                                                                  \n",
            " max_pooling2d_15 (MaxPooling2D  (None, 5, 5, 768)   0           ['mixed7[0][0]']                 \n",
            " )                                                                                                \n",
            "                                                                                                  \n",
            " mixed8 (Concatenate)           (None, 5, 5, 1280)   0           ['activation_353[0][0]',         \n",
            "                                                                  'activation_357[0][0]',         \n",
            "                                                                  'max_pooling2d_15[0][0]']       \n",
            "                                                                                                  \n",
            " conv2d_362 (Conv2D)            (None, 5, 5, 448)    573440      ['mixed8[0][0]']                 \n",
            "                                                                                                  \n",
            " batch_normalization_362 (Batch  (None, 5, 5, 448)   1344        ['conv2d_362[0][0]']             \n",
            " Normalization)                                                                                   \n",
            "                                                                                                  \n",
            " activation_362 (Activation)    (None, 5, 5, 448)    0           ['batch_normalization_362[0][0]']\n",
            "                                                                                                  \n",
            " conv2d_359 (Conv2D)            (None, 5, 5, 384)    491520      ['mixed8[0][0]']                 \n",
            "                                                                                                  \n",
            " conv2d_363 (Conv2D)            (None, 5, 5, 384)    1548288     ['activation_362[0][0]']         \n",
            "                                                                                                  \n",
            " batch_normalization_359 (Batch  (None, 5, 5, 384)   1152        ['conv2d_359[0][0]']             \n",
            " Normalization)                                                                                   \n",
            "                                                                                                  \n",
            " batch_normalization_363 (Batch  (None, 5, 5, 384)   1152        ['conv2d_363[0][0]']             \n",
            " Normalization)                                                                                   \n",
            "                                                                                                  \n",
            " activation_359 (Activation)    (None, 5, 5, 384)    0           ['batch_normalization_359[0][0]']\n",
            "                                                                                                  \n",
            " activation_363 (Activation)    (None, 5, 5, 384)    0           ['batch_normalization_363[0][0]']\n",
            "                                                                                                  \n",
            " conv2d_360 (Conv2D)            (None, 5, 5, 384)    442368      ['activation_359[0][0]']         \n",
            "                                                                                                  \n",
            " conv2d_361 (Conv2D)            (None, 5, 5, 384)    442368      ['activation_359[0][0]']         \n",
            "                                                                                                  \n",
            " conv2d_364 (Conv2D)            (None, 5, 5, 384)    442368      ['activation_363[0][0]']         \n",
            "                                                                                                  \n",
            " conv2d_365 (Conv2D)            (None, 5, 5, 384)    442368      ['activation_363[0][0]']         \n",
            "                                                                                                  \n",
            " average_pooling2d_34 (AverageP  (None, 5, 5, 1280)  0           ['mixed8[0][0]']                 \n",
            " ooling2D)                                                                                        \n",
            "                                                                                                  \n",
            " conv2d_358 (Conv2D)            (None, 5, 5, 320)    409600      ['mixed8[0][0]']                 \n",
            "                                                                                                  \n",
            " batch_normalization_360 (Batch  (None, 5, 5, 384)   1152        ['conv2d_360[0][0]']             \n",
            " Normalization)                                                                                   \n",
            "                                                                                                  \n",
            " batch_normalization_361 (Batch  (None, 5, 5, 384)   1152        ['conv2d_361[0][0]']             \n",
            " Normalization)                                                                                   \n",
            "                                                                                                  \n",
            " batch_normalization_364 (Batch  (None, 5, 5, 384)   1152        ['conv2d_364[0][0]']             \n",
            " Normalization)                                                                                   \n",
            "                                                                                                  \n",
            " batch_normalization_365 (Batch  (None, 5, 5, 384)   1152        ['conv2d_365[0][0]']             \n",
            " Normalization)                                                                                   \n",
            "                                                                                                  \n",
            " conv2d_366 (Conv2D)            (None, 5, 5, 192)    245760      ['average_pooling2d_34[0][0]']   \n",
            "                                                                                                  \n",
            " batch_normalization_358 (Batch  (None, 5, 5, 320)   960         ['conv2d_358[0][0]']             \n",
            " Normalization)                                                                                   \n",
            "                                                                                                  \n",
            " activation_360 (Activation)    (None, 5, 5, 384)    0           ['batch_normalization_360[0][0]']\n",
            "                                                                                                  \n",
            " activation_361 (Activation)    (None, 5, 5, 384)    0           ['batch_normalization_361[0][0]']\n",
            "                                                                                                  \n",
            " activation_364 (Activation)    (None, 5, 5, 384)    0           ['batch_normalization_364[0][0]']\n",
            "                                                                                                  \n",
            " activation_365 (Activation)    (None, 5, 5, 384)    0           ['batch_normalization_365[0][0]']\n",
            "                                                                                                  \n",
            " batch_normalization_366 (Batch  (None, 5, 5, 192)   576         ['conv2d_366[0][0]']             \n",
            " Normalization)                                                                                   \n",
            "                                                                                                  \n",
            " activation_358 (Activation)    (None, 5, 5, 320)    0           ['batch_normalization_358[0][0]']\n",
            "                                                                                                  \n",
            " mixed9_0 (Concatenate)         (None, 5, 5, 768)    0           ['activation_360[0][0]',         \n",
            "                                                                  'activation_361[0][0]']         \n",
            "                                                                                                  \n",
            " concatenate_6 (Concatenate)    (None, 5, 5, 768)    0           ['activation_364[0][0]',         \n",
            "                                                                  'activation_365[0][0]']         \n",
            "                                                                                                  \n",
            " activation_366 (Activation)    (None, 5, 5, 192)    0           ['batch_normalization_366[0][0]']\n",
            "                                                                                                  \n",
            " mixed9 (Concatenate)           (None, 5, 5, 2048)   0           ['activation_358[0][0]',         \n",
            "                                                                  'mixed9_0[0][0]',               \n",
            "                                                                  'concatenate_6[0][0]',          \n",
            "                                                                  'activation_366[0][0]']         \n",
            "                                                                                                  \n",
            " conv2d_371 (Conv2D)            (None, 5, 5, 448)    917504      ['mixed9[0][0]']                 \n",
            "                                                                                                  \n",
            " batch_normalization_371 (Batch  (None, 5, 5, 448)   1344        ['conv2d_371[0][0]']             \n",
            " Normalization)                                                                                   \n",
            "                                                                                                  \n",
            " activation_371 (Activation)    (None, 5, 5, 448)    0           ['batch_normalization_371[0][0]']\n",
            "                                                                                                  \n",
            " conv2d_368 (Conv2D)            (None, 5, 5, 384)    786432      ['mixed9[0][0]']                 \n",
            "                                                                                                  \n",
            " conv2d_372 (Conv2D)            (None, 5, 5, 384)    1548288     ['activation_371[0][0]']         \n",
            "                                                                                                  \n",
            " batch_normalization_368 (Batch  (None, 5, 5, 384)   1152        ['conv2d_368[0][0]']             \n",
            " Normalization)                                                                                   \n",
            "                                                                                                  \n",
            " batch_normalization_372 (Batch  (None, 5, 5, 384)   1152        ['conv2d_372[0][0]']             \n",
            " Normalization)                                                                                   \n",
            "                                                                                                  \n",
            " activation_368 (Activation)    (None, 5, 5, 384)    0           ['batch_normalization_368[0][0]']\n",
            "                                                                                                  \n",
            " activation_372 (Activation)    (None, 5, 5, 384)    0           ['batch_normalization_372[0][0]']\n",
            "                                                                                                  \n",
            " conv2d_369 (Conv2D)            (None, 5, 5, 384)    442368      ['activation_368[0][0]']         \n",
            "                                                                                                  \n",
            " conv2d_370 (Conv2D)            (None, 5, 5, 384)    442368      ['activation_368[0][0]']         \n",
            "                                                                                                  \n",
            " conv2d_373 (Conv2D)            (None, 5, 5, 384)    442368      ['activation_372[0][0]']         \n",
            "                                                                                                  \n",
            " conv2d_374 (Conv2D)            (None, 5, 5, 384)    442368      ['activation_372[0][0]']         \n",
            "                                                                                                  \n",
            " average_pooling2d_35 (AverageP  (None, 5, 5, 2048)  0           ['mixed9[0][0]']                 \n",
            " ooling2D)                                                                                        \n",
            "                                                                                                  \n",
            " conv2d_367 (Conv2D)            (None, 5, 5, 320)    655360      ['mixed9[0][0]']                 \n",
            "                                                                                                  \n",
            " batch_normalization_369 (Batch  (None, 5, 5, 384)   1152        ['conv2d_369[0][0]']             \n",
            " Normalization)                                                                                   \n",
            "                                                                                                  \n",
            " batch_normalization_370 (Batch  (None, 5, 5, 384)   1152        ['conv2d_370[0][0]']             \n",
            " Normalization)                                                                                   \n",
            "                                                                                                  \n",
            " batch_normalization_373 (Batch  (None, 5, 5, 384)   1152        ['conv2d_373[0][0]']             \n",
            " Normalization)                                                                                   \n",
            "                                                                                                  \n",
            " batch_normalization_374 (Batch  (None, 5, 5, 384)   1152        ['conv2d_374[0][0]']             \n",
            " Normalization)                                                                                   \n",
            "                                                                                                  \n",
            " conv2d_375 (Conv2D)            (None, 5, 5, 192)    393216      ['average_pooling2d_35[0][0]']   \n",
            "                                                                                                  \n",
            " batch_normalization_367 (Batch  (None, 5, 5, 320)   960         ['conv2d_367[0][0]']             \n",
            " Normalization)                                                                                   \n",
            "                                                                                                  \n",
            " activation_369 (Activation)    (None, 5, 5, 384)    0           ['batch_normalization_369[0][0]']\n",
            "                                                                                                  \n",
            " activation_370 (Activation)    (None, 5, 5, 384)    0           ['batch_normalization_370[0][0]']\n",
            "                                                                                                  \n",
            " activation_373 (Activation)    (None, 5, 5, 384)    0           ['batch_normalization_373[0][0]']\n",
            "                                                                                                  \n",
            " activation_374 (Activation)    (None, 5, 5, 384)    0           ['batch_normalization_374[0][0]']\n",
            "                                                                                                  \n",
            " batch_normalization_375 (Batch  (None, 5, 5, 192)   576         ['conv2d_375[0][0]']             \n",
            " Normalization)                                                                                   \n",
            "                                                                                                  \n",
            " activation_367 (Activation)    (None, 5, 5, 320)    0           ['batch_normalization_367[0][0]']\n",
            "                                                                                                  \n",
            " mixed9_1 (Concatenate)         (None, 5, 5, 768)    0           ['activation_369[0][0]',         \n",
            "                                                                  'activation_370[0][0]']         \n",
            "                                                                                                  \n",
            " concatenate_7 (Concatenate)    (None, 5, 5, 768)    0           ['activation_373[0][0]',         \n",
            "                                                                  'activation_374[0][0]']         \n",
            "                                                                                                  \n",
            " activation_375 (Activation)    (None, 5, 5, 192)    0           ['batch_normalization_375[0][0]']\n",
            "                                                                                                  \n",
            " mixed10 (Concatenate)          (None, 5, 5, 2048)   0           ['activation_367[0][0]',         \n",
            "                                                                  'mixed9_1[0][0]',               \n",
            "                                                                  'concatenate_7[0][0]',          \n",
            "                                                                  'activation_375[0][0]']         \n",
            "                                                                                                  \n",
            "==================================================================================================\n",
            "Total params: 21,802,784\n",
            "Trainable params: 0\n",
            "Non-trainable params: 21,802,784\n",
            "__________________________________________________________________________________________________\n"
          ]
        }
      ]
    },
    {
      "cell_type": "markdown",
      "source": [
        "# MODEL TRAINING"
      ],
      "metadata": {
        "id": "jnCCa90XKNaa"
      }
    },
    {
      "cell_type": "markdown",
      "source": [
        "Cut the pre-trained model only to \"mixed7\" layer and add Flatten layer, hidden layer, dropout layer, and output layer to the model."
      ],
      "metadata": {
        "id": "zU-XlqAmP9um"
      }
    },
    {
      "cell_type": "code",
      "source": [
        "last_layer = pre_trained_model.get_layer(\"mixed7\")\n",
        "last_layer_output = last_layer.output\n",
        "\n",
        "x = tf.keras.layers.Flatten()(last_layer_output)\n",
        "x = tf.keras.layers.Dense(1024, activation='relu')(x)\n",
        "x = tf.keras.layers.Dropout(0.2)(x)\n",
        "x = tf.keras.layers.Dense(6, activation='softmax')(x)\n",
        "\n",
        "model = tf.keras.Model(inputs=pre_trained_model.input, outputs=x)"
      ],
      "metadata": {
        "id": "HJ1pvpFgKmWR"
      },
      "execution_count": null,
      "outputs": []
    },
    {
      "cell_type": "markdown",
      "source": [
        "Compile the model."
      ],
      "metadata": {
        "id": "qTX6mMFBQaCk"
      }
    },
    {
      "cell_type": "code",
      "source": [
        "model.compile(optimizer = tf.keras.optimizers.Adam(), \n",
        "              loss = 'categorical_crossentropy',\n",
        "              metrics = ['acc'])"
      ],
      "metadata": {
        "id": "nji495i1QXMW"
      },
      "execution_count": null,
      "outputs": []
    },
    {
      "cell_type": "markdown",
      "source": [
        "Train the model."
      ],
      "metadata": {
        "id": "Sbr-lXk3QdY-"
      }
    },
    {
      "cell_type": "code",
      "source": [
        "# Run this and see how many epochs it should take before the callback\n",
        "# fires, and stops training at 98% accuracy\n",
        "history = model.fit(train_generator,\n",
        "                    validation_data = test_generator,\n",
        "                    epochs = 20,\n",
        "                    verbose = 2,\n",
        "                    callbacks=[callbacks])"
      ],
      "metadata": {
        "colab": {
          "base_uri": "https://localhost:8080/"
        },
        "id": "yyDPdY22K2Ip",
        "outputId": "12e72e4d-8402-4b63-cdc8-47b8abc661e0"
      },
      "execution_count": null,
      "outputs": [
        {
          "output_type": "stream",
          "name": "stdout",
          "text": [
            "Epoch 1/20\n",
            "151/151 - 11s - loss: 4.0801 - acc: 0.6886 - val_loss: 0.5599 - val_acc: 0.8633 - 11s/epoch - 76ms/step\n",
            "Epoch 2/20\n",
            "151/151 - 8s - loss: 0.2473 - acc: 0.9416 - val_loss: 0.3425 - val_acc: 0.9033 - 8s/epoch - 52ms/step\n",
            "Epoch 3/20\n",
            "151/151 - 8s - loss: 0.2249 - acc: 0.9582 - val_loss: 0.5252 - val_acc: 0.9000 - 8s/epoch - 52ms/step\n",
            "Epoch 4/20\n",
            "151/151 - 8s - loss: 0.2063 - acc: 0.9602 - val_loss: 0.6111 - val_acc: 0.8767 - 8s/epoch - 51ms/step\n",
            "Epoch 5/20\n",
            "\n",
            "Reached 98% accuracy so cancelling training!\n",
            "151/151 - 8s - loss: 0.0918 - acc: 0.9854 - val_loss: 0.7704 - val_acc: 0.8567 - 8s/epoch - 51ms/step\n"
          ]
        }
      ]
    },
    {
      "cell_type": "code",
      "source": [
        "# Plot the training and validation accuracies for each epoch\n",
        "\n",
        "acc = history.history['acc']\n",
        "val_acc = history.history['val_acc']\n",
        "loss = history.history['loss']\n",
        "val_loss = history.history['val_loss']\n",
        "\n",
        "epochs = range(len(acc))\n",
        "\n",
        "plt.plot(epochs, acc, 'r', label='Training accuracy')\n",
        "plt.plot(epochs, val_acc, 'b', label='Validation accuracy')\n",
        "plt.title('Training and validation accuracy')\n",
        "plt.legend(loc=0)\n",
        "plt.figure()\n",
        "\n",
        "plt.show()"
      ],
      "metadata": {
        "id": "4Ov7zG81K_ev",
        "colab": {
          "base_uri": "https://localhost:8080/",
          "height": 298
        },
        "outputId": "1d170a81-2fab-4feb-f447-ad602d6c96a5"
      },
      "execution_count": null,
      "outputs": [
        {
          "output_type": "display_data",
          "data": {
            "text/plain": [
              "<Figure size 432x288 with 1 Axes>"
            ],
            "image/png": "[encoded data removed]"
          },
          "metadata": {
            "needs_background": "light"
          }
        },
        {
          "output_type": "display_data",
          "data": {
            "text/plain": [
              "<Figure size 432x288 with 0 Axes>"
            ]
          },
          "metadata": {}
        }
      ]
    },
    {
      "cell_type": "markdown",
      "source": [
        "# EXPORT MODEL"
      ],
      "metadata": {
        "id": "xk1yVIdwLED8"
      }
    },
    {
      "cell_type": "code",
      "source": [
        "from google.colab import drive\n",
        "drive.mount(\"/content/drive\")"
      ],
      "metadata": {
        "colab": {
          "base_uri": "https://localhost:8080/"
        },
        "id": "xDo5mRCmTeBj",
        "outputId": "351c19aa-c1a7-4750-c525-0aa223c27c11"
      },
      "execution_count": null,
      "outputs": [
        {
          "output_type": "stream",
          "name": "stdout",
          "text": [
            "Mounted at /content/drive\n"
          ]
        }
      ]
    },
    {
      "cell_type": "code",
      "source": [
        "# Create a labels.txt file with the class names\n",
        "class_names = ['Jahe', 'Kemiri', 'Kencur', 'Kunyit', 'Lengkuas', 'Pala']\n",
        "\n",
        "with open('/content/drive/Shareddrives/CAPSTONE_BANGKIT/model/labels.txt', 'w') as f:\n",
        "    f.write('\\n'.join(class_names))"
      ],
      "metadata": {
        "id": "R1yFQs3GLQ6d"
      },
      "execution_count": null,
      "outputs": []
    },
    {
      "cell_type": "code",
      "source": [
        "# Use the tf.saved_model API to save your model in the SavedModel format. \n",
        "export_dir = 'saved_model/1'\n",
        "\n",
        "tf.saved_model.save(model, export_dir)"
      ],
      "metadata": {
        "id": "8qcq0H-tLUXv",
        "colab": {
          "base_uri": "https://localhost:8080/"
        },
        "outputId": "38b0d558-697c-4a74-b7c1-da6c99a7fe45"
      },
      "execution_count": null,
      "outputs": [
        {
          "output_type": "stream",
          "name": "stdout",
          "text": [
            "INFO:tensorflow:Assets written to: saved_model/1/assets\n"
          ]
        }
      ]
    },
    {
      "cell_type": "markdown",
      "source": [
        "# EXPORT MODEL - h5"
      ],
      "metadata": {
        "id": "Ym4pge-9LZgE"
      }
    },
    {
      "cell_type": "code",
      "source": [
        "model.save(\"/content/drive/Shareddrives/CAPSTONE_BANGKIT/model/spice_model.h5\")"
      ],
      "metadata": {
        "id": "1ij4LtedLevt"
      },
      "execution_count": null,
      "outputs": []
    },
    {
      "cell_type": "markdown",
      "source": [
        "# EXPORT MODEL - tflite"
      ],
      "metadata": {
        "id": "wN9FWTxsLjmE"
      }
    },
    {
      "cell_type": "code",
      "source": [
        "import tensorflow as tf\n",
        "import shutil\n",
        "\n",
        "shutil.rmtree(\"/content/spices\")\n",
        "shutil.rmtree(\"/content/sample_data\")"
      ],
      "metadata": {
        "id": "zqlT6xTkLpd-"
      },
      "execution_count": null,
      "outputs": []
    },
    {
      "cell_type": "code",
      "source": [
        "# Select mode of optimization\n",
        "mode = \" \" \n",
        "\n",
        "import tensorflow as tf\n",
        "if mode == 'Storage':\n",
        "    optimization = tf.lite.Optimize.OPTIMIZE_FOR_SIZE\n",
        "elif mode == 'Speed':\n",
        "    optimization = tf.lite.Optimize.OPTIMIZE_FOR_LATENCY\n",
        "else:\n",
        "    optimization = tf.lite.Optimize.DEFAULT"
      ],
      "metadata": {
        "id": "R6crQ3lsLtpH"
      },
      "execution_count": null,
      "outputs": []
    },
    {
      "cell_type": "code",
      "source": [
        "# Use the TFLiteConverter SavedModel API to initialize the converter\n",
        "export_dir = 'saved_model/1'\n",
        "converter = tf.lite.TFLiteConverter.from_saved_model(export_dir)\n",
        "\n",
        "# Set the optimizations\n",
        "converter.optimizations = [optimization]\n",
        "\n",
        "# Invoke the converter to finally generate the TFLite model\n",
        "tflite_model = converter.convert()"
      ],
      "metadata": {
        "id": "CUaNXQBDL0yr"
      },
      "execution_count": null,
      "outputs": []
    },
    {
      "cell_type": "code",
      "source": [
        "tflite_model_file = pathlib.Path('/content/drive/Shareddrives/CAPSTONE_BANGKIT/model/spice_model.tflite')\n",
        "tflite_model_file.write_bytes(tflite_model)\n",
        "\n",
        "from google.colab import files\n",
        "files.download('/content/drive/Shareddrives/CAPSTONE_BANGKIT/model/spice_model.tflite')"
      ],
      "metadata": {
        "id": "GoIUyvp4L2j8"
      },
      "execution_count": null,
      "outputs": []
    },
    {
      "cell_type": "markdown",
      "source": [
        "#  ADDING METADATA"
      ],
      "metadata": {
        "id": "ZVbaV9ZnL_J_"
      }
    },
    {
      "cell_type": "code",
      "source": [
        "!pip install absl-py\n",
        "!pip install tensorflow\n",
        "!pip install tflite-support\n",
        "!pip install protobuf==3.18\n",
        "!pip install flatbuffers==1.12"
      ],
      "metadata": {
        "id": "_OOSnVJzMCWI",
        "colab": {
          "base_uri": "https://localhost:8080/",
          "height": 1000
        },
        "outputId": "14fe39ce-3d7f-490c-c45f-cf2b9e6f8707"
      },
      "execution_count": null,
      "outputs": [
        {
          "output_type": "stream",
          "name": "stdout",
          "text": [
            "Looking in indexes: https://pypi.org/simple, https://us-python.pkg.dev/colab-wheels/public/simple/\n",
            "Requirement already satisfied: absl-py in /usr/local/lib/python3.7/dist-packages (1.0.0)\n",
            "Requirement already satisfied: six in /usr/local/lib/python3.7/dist-packages (from absl-py) (1.15.0)\n",
            "Looking in indexes: https://pypi.org/simple, https://us-python.pkg.dev/colab-wheels/public/simple/\n",
            "Requirement already satisfied: tensorflow in /usr/local/lib/python3.7/dist-packages (2.8.2+zzzcolab20220527125636)\n",
            "Requirement already satisfied: numpy>=1.20 in /usr/local/lib/python3.7/dist-packages (from tensorflow) (1.21.6)\n",
            "Requirement already satisfied: tensorboard<2.9,>=2.8 in /usr/local/lib/python3.7/dist-packages (from tensorflow) (2.8.0)\n",
            "Requirement already satisfied: astunparse>=1.6.0 in /usr/local/lib/python3.7/dist-packages (from tensorflow) (1.6.3)\n",
            "Requirement already satisfied: tensorflow-estimator<2.9,>=2.8 in /usr/local/lib/python3.7/dist-packages (from tensorflow) (2.8.0)\n",
            "Requirement already satisfied: setuptools in /usr/local/lib/python3.7/dist-packages (from tensorflow) (57.4.0)\n",
            "Requirement already satisfied: h5py>=2.9.0 in /usr/local/lib/python3.7/dist-packages (from tensorflow) (3.1.0)\n",
            "Requirement already satisfied: grpcio<2.0,>=1.24.3 in /usr/local/lib/python3.7/dist-packages (from tensorflow) (1.46.3)\n",
            "Requirement already satisfied: opt-einsum>=2.3.2 in /usr/local/lib/python3.7/dist-packages (from tensorflow) (3.3.0)\n",
            "Requirement already satisfied: absl-py>=0.4.0 in /usr/local/lib/python3.7/dist-packages (from tensorflow) (1.0.0)\n",
            "Requirement already satisfied: keras-preprocessing>=1.1.1 in /usr/local/lib/python3.7/dist-packages (from tensorflow) (1.1.2)\n",
            "Requirement already satisfied: typing-extensions>=3.6.6 in /usr/local/lib/python3.7/dist-packages (from tensorflow) (4.2.0)\n",
            "Requirement already satisfied: wrapt>=1.11.0 in /usr/local/lib/python3.7/dist-packages (from tensorflow) (1.14.1)\n",
            "Requirement already satisfied: flatbuffers>=1.12 in /usr/local/lib/python3.7/dist-packages (from tensorflow) (2.0)\n",
            "Requirement already satisfied: protobuf<3.20,>=3.9.2 in /usr/local/lib/python3.7/dist-packages (from tensorflow) (3.17.3)\n",
            "Requirement already satisfied: google-pasta>=0.1.1 in /usr/local/lib/python3.7/dist-packages (from tensorflow) (0.2.0)\n",
            "Requirement already satisfied: keras<2.9,>=2.8.0rc0 in /usr/local/lib/python3.7/dist-packages (from tensorflow) (2.8.0)\n",
            "Requirement already satisfied: tensorflow-io-gcs-filesystem>=0.23.1 in /usr/local/lib/python3.7/dist-packages (from tensorflow) (0.26.0)\n",
            "Requirement already satisfied: termcolor>=1.1.0 in /usr/local/lib/python3.7/dist-packages (from tensorflow) (1.1.0)\n",
            "Requirement already satisfied: six>=1.12.0 in /usr/local/lib/python3.7/dist-packages (from tensorflow) (1.15.0)\n",
            "Requirement already satisfied: gast>=0.2.1 in /usr/local/lib/python3.7/dist-packages (from tensorflow) (0.5.3)\n",
            "Requirement already satisfied: libclang>=9.0.1 in /usr/local/lib/python3.7/dist-packages (from tensorflow) (14.0.1)\n",
            "Requirement already satisfied: wheel<1.0,>=0.23.0 in /usr/local/lib/python3.7/dist-packages (from astunparse>=1.6.0->tensorflow) (0.37.1)\n",
            "Requirement already satisfied: cached-property in /usr/local/lib/python3.7/dist-packages (from h5py>=2.9.0->tensorflow) (1.5.2)\n",
            "Requirement already satisfied: google-auth-oauthlib<0.5,>=0.4.1 in /usr/local/lib/python3.7/dist-packages (from tensorboard<2.9,>=2.8->tensorflow) (0.4.6)\n",
            "Requirement already satisfied: requests<3,>=2.21.0 in /usr/local/lib/python3.7/dist-packages (from tensorboard<2.9,>=2.8->tensorflow) (2.23.0)\n",
            "Requirement already satisfied: werkzeug>=0.11.15 in /usr/local/lib/python3.7/dist-packages (from tensorboard<2.9,>=2.8->tensorflow) (1.0.1)\n",
            "Requirement already satisfied: tensorboard-plugin-wit>=1.6.0 in /usr/local/lib/python3.7/dist-packages (from tensorboard<2.9,>=2.8->tensorflow) (1.8.1)\n",
            "Requirement already satisfied: google-auth<3,>=1.6.3 in /usr/local/lib/python3.7/dist-packages (from tensorboard<2.9,>=2.8->tensorflow) (1.35.0)\n",
            "Requirement already satisfied: markdown>=2.6.8 in /usr/local/lib/python3.7/dist-packages (from tensorboard<2.9,>=2.8->tensorflow) (3.3.7)\n",
            "Requirement already satisfied: tensorboard-data-server<0.7.0,>=0.6.0 in /usr/local/lib/python3.7/dist-packages (from tensorboard<2.9,>=2.8->tensorflow) (0.6.1)\n",
            "Requirement already satisfied: rsa<5,>=3.1.4 in /usr/local/lib/python3.7/dist-packages (from google-auth<3,>=1.6.3->tensorboard<2.9,>=2.8->tensorflow) (4.8)\n",
            "Requirement already satisfied: cachetools<5.0,>=2.0.0 in /usr/local/lib/python3.7/dist-packages (from google-auth<3,>=1.6.3->tensorboard<2.9,>=2.8->tensorflow) (4.2.4)\n",
            "Requirement already satisfied: pyasn1-modules>=0.2.1 in /usr/local/lib/python3.7/dist-packages (from google-auth<3,>=1.6.3->tensorboard<2.9,>=2.8->tensorflow) (0.2.8)\n",
            "Requirement already satisfied: requests-oauthlib>=0.7.0 in /usr/local/lib/python3.7/dist-packages (from google-auth-oauthlib<0.5,>=0.4.1->tensorboard<2.9,>=2.8->tensorflow) (1.3.1)\n",
            "Requirement already satisfied: importlib-metadata>=4.4 in /usr/local/lib/python3.7/dist-packages (from markdown>=2.6.8->tensorboard<2.9,>=2.8->tensorflow) (4.11.4)\n",
            "Requirement already satisfied: zipp>=0.5 in /usr/local/lib/python3.7/dist-packages (from importlib-metadata>=4.4->markdown>=2.6.8->tensorboard<2.9,>=2.8->tensorflow) (3.8.0)\n",
            "Requirement already satisfied: pyasn1<0.5.0,>=0.4.6 in /usr/local/lib/python3.7/dist-packages (from pyasn1-modules>=0.2.1->google-auth<3,>=1.6.3->tensorboard<2.9,>=2.8->tensorflow) (0.4.8)\n",
            "Requirement already satisfied: urllib3!=1.25.0,!=1.25.1,<1.26,>=1.21.1 in /usr/local/lib/python3.7/dist-packages (from requests<3,>=2.21.0->tensorboard<2.9,>=2.8->tensorflow) (1.24.3)\n",
            "Requirement already satisfied: certifi>=2017.4.17 in /usr/local/lib/python3.7/dist-packages (from requests<3,>=2.21.0->tensorboard<2.9,>=2.8->tensorflow) (2022.5.18.1)\n",
            "Requirement already satisfied: chardet<4,>=3.0.2 in /usr/local/lib/python3.7/dist-packages (from requests<3,>=2.21.0->tensorboard<2.9,>=2.8->tensorflow) (3.0.4)\n",
            "Requirement already satisfied: idna<3,>=2.5 in /usr/local/lib/python3.7/dist-packages (from requests<3,>=2.21.0->tensorboard<2.9,>=2.8->tensorflow) (2.10)\n",
            "Requirement already satisfied: oauthlib>=3.0.0 in /usr/local/lib/python3.7/dist-packages (from requests-oauthlib>=0.7.0->google-auth-oauthlib<0.5,>=0.4.1->tensorboard<2.9,>=2.8->tensorflow) (3.2.0)\n",
            "Looking in indexes: https://pypi.org/simple, https://us-python.pkg.dev/colab-wheels/public/simple/\n",
            "Collecting tflite-support\n",
            "  Downloading tflite_support-0.4.1-cp37-cp37m-manylinux2014_x86_64.whl (42.5 MB)\n",
            "\u001b[K     |████████████████████████████████| 42.5 MB 1.2 MB/s \n",
            "\u001b[?25hCollecting protobuf<4,>=3.18.0\n",
            "  Downloading protobuf-3.20.1-cp37-cp37m-manylinux_2_5_x86_64.manylinux1_x86_64.whl (1.0 MB)\n",
            "\u001b[K     |████████████████████████████████| 1.0 MB 49.3 MB/s \n",
            "\u001b[?25hCollecting sounddevice>=0.4.4\n",
            "  Downloading sounddevice-0.4.4-py3-none-any.whl (31 kB)\n",
            "Requirement already satisfied: numpy>=1.20.0 in /usr/local/lib/python3.7/dist-packages (from tflite-support) (1.21.6)\n",
            "Collecting flatbuffers<2,>=1.12\n",
            "  Downloading flatbuffers-1.12-py2.py3-none-any.whl (15 kB)\n",
            "Requirement already satisfied: absl-py>=0.7.0 in /usr/local/lib/python3.7/dist-packages (from tflite-support) (1.0.0)\n",
            "Collecting pybind11>=2.6.0\n",
            "  Downloading pybind11-2.9.2-py2.py3-none-any.whl (213 kB)\n",
            "\u001b[K     |████████████████████████████████| 213 kB 74.3 MB/s \n",
            "\u001b[?25hRequirement already satisfied: six in /usr/local/lib/python3.7/dist-packages (from absl-py>=0.7.0->tflite-support) (1.15.0)\n",
            "Requirement already satisfied: CFFI>=1.0 in /usr/local/lib/python3.7/dist-packages (from sounddevice>=0.4.4->tflite-support) (1.15.0)\n",
            "Requirement already satisfied: pycparser in /usr/local/lib/python3.7/dist-packages (from CFFI>=1.0->sounddevice>=0.4.4->tflite-support) (2.21)\n",
            "Installing collected packages: sounddevice, pybind11, protobuf, flatbuffers, tflite-support\n",
            "  Attempting uninstall: protobuf\n",
            "    Found existing installation: protobuf 3.17.3\n",
            "    Uninstalling protobuf-3.17.3:\n",
            "      Successfully uninstalled protobuf-3.17.3\n",
            "  Attempting uninstall: flatbuffers\n",
            "    Found existing installation: flatbuffers 2.0\n",
            "    Uninstalling flatbuffers-2.0:\n",
            "      Successfully uninstalled flatbuffers-2.0\n",
            "\u001b[31mERROR: pip's dependency resolver does not currently take into account all the packages that are installed. This behaviour is the source of the following dependency conflicts.\n",
            "tensorflow 2.8.2+zzzcolab20220527125636 requires protobuf<3.20,>=3.9.2, but you have protobuf 3.20.1 which is incompatible.\u001b[0m\n",
            "Successfully installed flatbuffers-1.12 protobuf-3.20.1 pybind11-2.9.2 sounddevice-0.4.4 tflite-support-0.4.1\n"
          ]
        },
        {
          "output_type": "display_data",
          "data": {
            "application/vnd.colab-display-data+json": {
              "pip_warning": {
                "packages": [
                  "flatbuffers",
                  "google"
                ]
              }
            }
          },
          "metadata": {}
        },
        {
          "output_type": "stream",
          "name": "stdout",
          "text": [
            "Looking in indexes: https://pypi.org/simple, https://us-python.pkg.dev/colab-wheels/public/simple/\n",
            "Collecting protobuf==3.18\n",
            "  Downloading protobuf-3.18.0-cp37-cp37m-manylinux_2_17_x86_64.manylinux2014_x86_64.whl (1.1 MB)\n",
            "\u001b[K     |████████████████████████████████| 1.1 MB 4.9 MB/s \n",
            "\u001b[33mWARNING: The candidate selected for download or install is a yanked version: 'protobuf' candidate (version 3.18.0 at https://files.pythonhosted.org/packages/75/dc/a90a5bfc608ad894b636904d6efff943a85e48a5c6466ccc8e3f73a214f2/protobuf-3.18.0-cp37-cp37m-manylinux_2_17_x86_64.manylinux2014_x86_64.whl#sha256=877664b1b8d1e23553634f625e4e12aae4ff16cbbef473f8118c239d478f422a (from https://pypi.org/simple/protobuf/))\n",
            "Reason for being yanked: This version claims to support Python 2 but does not\u001b[0m\n",
            "\u001b[?25hInstalling collected packages: protobuf\n",
            "  Attempting uninstall: protobuf\n",
            "    Found existing installation: protobuf 3.20.1\n",
            "    Uninstalling protobuf-3.20.1:\n",
            "      Successfully uninstalled protobuf-3.20.1\n",
            "Successfully installed protobuf-3.18.0\n"
          ]
        },
        {
          "output_type": "display_data",
          "data": {
            "application/vnd.colab-display-data+json": {
              "pip_warning": {
                "packages": [
                  "google"
                ]
              }
            }
          },
          "metadata": {}
        },
        {
          "output_type": "stream",
          "name": "stdout",
          "text": [
            "Looking in indexes: https://pypi.org/simple, https://us-python.pkg.dev/colab-wheels/public/simple/\n",
            "Requirement already satisfied: flatbuffers==1.12 in /usr/local/lib/python3.7/dist-packages (1.12)\n"
          ]
        }
      ]
    },
    {
      "cell_type": "code",
      "source": [
        "!sudo apt-get install libportaudio2"
      ],
      "metadata": {
        "id": "F0nLLgVGMFO_",
        "colab": {
          "base_uri": "https://localhost:8080/"
        },
        "outputId": "9eaf2924-754b-4869-b9a6-b2880575936a"
      },
      "execution_count": null,
      "outputs": [
        {
          "output_type": "stream",
          "name": "stdout",
          "text": [
            "Reading package lists... Done\n",
            "Building dependency tree       \n",
            "Reading state information... Done\n",
            "The following package was automatically installed and is no longer required:\n",
            "  libnvidia-common-460\n",
            "Use 'sudo apt autoremove' to remove it.\n",
            "The following NEW packages will be installed:\n",
            "  libportaudio2\n",
            "0 upgraded, 1 newly installed, 0 to remove and 42 not upgraded.\n",
            "Need to get 64.6 kB of archives.\n",
            "After this operation, 215 kB of additional disk space will be used.\n",
            "Get:1 http://archive.ubuntu.com/ubuntu bionic/universe amd64 libportaudio2 amd64 19.6.0-1 [64.6 kB]\n",
            "Fetched 64.6 kB in 0s (131 kB/s)\n",
            "debconf: unable to initialize frontend: Dialog\n",
            "debconf: (No usable dialog-like program is installed, so the dialog based frontend cannot be used. at /usr/share/perl5/Debconf/FrontEnd/Dialog.pm line 76, <> line 1.)\n",
            "debconf: falling back to frontend: Readline\n",
            "debconf: unable to initialize frontend: Readline\n",
            "debconf: (This frontend requires a controlling tty.)\n",
            "debconf: falling back to frontend: Teletype\n",
            "dpkg-preconfigure: unable to re-open stdin: \n",
            "Selecting previously unselected package libportaudio2:amd64.\n",
            "(Reading database ... 155629 files and directories currently installed.)\n",
            "Preparing to unpack .../libportaudio2_19.6.0-1_amd64.deb ...\n",
            "Unpacking libportaudio2:amd64 (19.6.0-1) ...\n",
            "Setting up libportaudio2:amd64 (19.6.0-1) ...\n",
            "Processing triggers for libc-bin (2.27-3ubuntu1.3) ...\n",
            "/sbin/ldconfig.real: /usr/local/lib/python3.7/dist-packages/ideep4py/lib/libmkldnn.so.0 is not a symbolic link\n",
            "\n"
          ]
        }
      ]
    },
    {
      "cell_type": "code",
      "source": [
        "!python /content/drive/Shareddrives/CAPSTONE_BANGKIT/metadata_writer_for_image_classifier.py \\\n",
        "    --model_file=/content/drive/Shareddrives/CAPSTONE_BANGKIT/model/spice_model.tflite \\\n",
        "    --label_file=/content/drive/Shareddrives/CAPSTONE_BANGKIT/model/labels.txt \\\n",
        "    --export_directory=/content/drive/Shareddrives/CAPSTONE_BANGKIT/model_with_metadata"
      ],
      "metadata": {
        "id": "8H1nKWJcMJ07",
        "colab": {
          "base_uri": "https://localhost:8080/"
        },
        "outputId": "53347aeb-cd1b-4917-b479-1a8ab257efe8"
      },
      "execution_count": null,
      "outputs": [
        {
          "output_type": "stream",
          "name": "stdout",
          "text": [
            "Finished populating metadata and associated file to the model:\n",
            "/content/drive/Shareddrives/CAPSTONE_BANGKIT/model/spice_model.tflite\n",
            "The metadata json file has been saved to:\n",
            "/content/drive/Shareddrives/CAPSTONE_BANGKIT/model_with_metadata/spice_model.json\n",
            "The associated file that has been been packed to the model is:\n",
            "['labels.txt']\n"
          ]
        }
      ]
    }
  ]
}